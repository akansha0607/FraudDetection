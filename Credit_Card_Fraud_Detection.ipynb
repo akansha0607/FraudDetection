{
  "nbformat": 4,
  "nbformat_minor": 0,
  "metadata": {
    "colab": {
      "name": "Credit Card Fraud Detection.ipynb",
      "provenance": [],
      "authorship_tag": "ABX9TyMRwG76t6/5/pxdvI+UC8DE",
      "include_colab_link": true
    },
    "kernelspec": {
      "name": "python3",
      "display_name": "Python 3"
    },
    "language_info": {
      "name": "python"
    }
  },
  "cells": [
    {
      "cell_type": "markdown",
      "metadata": {
        "id": "view-in-github",
        "colab_type": "text"
      },
      "source": [
        "<a href=\"https://colab.research.google.com/github/akansha0607/FraudDetection/blob/main/Credit_Card_Fraud_Detection.ipynb\" target=\"_parent\"><img src=\"https://colab.research.google.com/assets/colab-badge.svg\" alt=\"Open In Colab\"/></a>"
      ]
    },
    {
      "cell_type": "markdown",
      "source": [
        "Importing the dependencies"
      ],
      "metadata": {
        "id": "wSnN35bLDN1b"
      }
    },
    {
      "cell_type": "code",
      "source": [
        "import numpy as np\n",
        "import pandas as pd\n",
        "import matplotlib.pyplot as plt\n",
        "import seaborn as sns\n",
        "import cmath\n",
        "from sklearn.model_selection import train_test_split\n",
        "from sklearn.linear_model import LogisticRegression\n",
        "from sklearn.metrics import accuracy_score\n",
        "from matplotlib import gridspec\n"
      ],
      "metadata": {
        "id": "cDn2nnbtDRQj"
      },
      "execution_count": null,
      "outputs": []
    },
    {
      "cell_type": "code",
      "source": [
        "# loading the dataset to a Pandas DataFrame\n",
        "credit_card_data = pd.read_csv('/content/credit_card.csv')"
      ],
      "metadata": {
        "id": "5y2oMPO1DvJN"
      },
      "execution_count": null,
      "outputs": []
    },
    {
      "cell_type": "code",
      "source": [
        "# first 5 rows of the dataset\n",
        "credit_card_data.head()"
      ],
      "metadata": {
        "id": "rwwmHCgJE2xn",
        "outputId": "ddea81cb-b130-48f1-bed3-4e0e8c689a10",
        "colab": {
          "base_uri": "https://localhost:8080/",
          "height": 299
        }
      },
      "execution_count": null,
      "outputs": [
        {
          "output_type": "execute_result",
          "data": {
            "text/plain": [
              "   Time        V1        V2        V3        V4        V5        V6        V7  \\\n",
              "0     0 -1.359807 -0.072781  2.536347  1.378155 -0.338321  0.462388  0.239599   \n",
              "1     0  1.191857  0.266151  0.166480  0.448154  0.060018 -0.082361 -0.078803   \n",
              "2     1 -1.358354 -1.340163  1.773209  0.379780 -0.503198  1.800499  0.791461   \n",
              "3     1 -0.966272 -0.185226  1.792993 -0.863291 -0.010309  1.247203  0.237609   \n",
              "4     2 -1.158233  0.877737  1.548718  0.403034 -0.407193  0.095921  0.592941   \n",
              "\n",
              "         V8        V9  ...       V21       V22       V23       V24       V25  \\\n",
              "0  0.098698  0.363787  ... -0.018307  0.277838 -0.110474  0.066928  0.128539   \n",
              "1  0.085102 -0.255425  ... -0.225775 -0.638672  0.101288 -0.339846  0.167170   \n",
              "2  0.247676 -1.514654  ...  0.247998  0.771679  0.909412 -0.689281 -0.327642   \n",
              "3  0.377436 -1.387024  ... -0.108300  0.005274 -0.190321 -1.175575  0.647376   \n",
              "4 -0.270533  0.817739  ... -0.009431  0.798278 -0.137458  0.141267 -0.206010   \n",
              "\n",
              "        V26       V27       V28  Amount  Class  \n",
              "0 -0.189115  0.133558 -0.021053  149.62    0.0  \n",
              "1  0.125895 -0.008983  0.014724    2.69    0.0  \n",
              "2 -0.139097 -0.055353 -0.059752  378.66    0.0  \n",
              "3 -0.221929  0.062723  0.061458  123.50    0.0  \n",
              "4  0.502292  0.219422  0.215153   69.99    0.0  \n",
              "\n",
              "[5 rows x 31 columns]"
            ],
            "text/html": [
              "\n",
              "  <div id=\"df-cb454390-c01b-4262-8798-95bfde4c6060\">\n",
              "    <div class=\"colab-df-container\">\n",
              "      <div>\n",
              "<style scoped>\n",
              "    .dataframe tbody tr th:only-of-type {\n",
              "        vertical-align: middle;\n",
              "    }\n",
              "\n",
              "    .dataframe tbody tr th {\n",
              "        vertical-align: top;\n",
              "    }\n",
              "\n",
              "    .dataframe thead th {\n",
              "        text-align: right;\n",
              "    }\n",
              "</style>\n",
              "<table border=\"1\" class=\"dataframe\">\n",
              "  <thead>\n",
              "    <tr style=\"text-align: right;\">\n",
              "      <th></th>\n",
              "      <th>Time</th>\n",
              "      <th>V1</th>\n",
              "      <th>V2</th>\n",
              "      <th>V3</th>\n",
              "      <th>V4</th>\n",
              "      <th>V5</th>\n",
              "      <th>V6</th>\n",
              "      <th>V7</th>\n",
              "      <th>V8</th>\n",
              "      <th>V9</th>\n",
              "      <th>...</th>\n",
              "      <th>V21</th>\n",
              "      <th>V22</th>\n",
              "      <th>V23</th>\n",
              "      <th>V24</th>\n",
              "      <th>V25</th>\n",
              "      <th>V26</th>\n",
              "      <th>V27</th>\n",
              "      <th>V28</th>\n",
              "      <th>Amount</th>\n",
              "      <th>Class</th>\n",
              "    </tr>\n",
              "  </thead>\n",
              "  <tbody>\n",
              "    <tr>\n",
              "      <th>0</th>\n",
              "      <td>0</td>\n",
              "      <td>-1.359807</td>\n",
              "      <td>-0.072781</td>\n",
              "      <td>2.536347</td>\n",
              "      <td>1.378155</td>\n",
              "      <td>-0.338321</td>\n",
              "      <td>0.462388</td>\n",
              "      <td>0.239599</td>\n",
              "      <td>0.098698</td>\n",
              "      <td>0.363787</td>\n",
              "      <td>...</td>\n",
              "      <td>-0.018307</td>\n",
              "      <td>0.277838</td>\n",
              "      <td>-0.110474</td>\n",
              "      <td>0.066928</td>\n",
              "      <td>0.128539</td>\n",
              "      <td>-0.189115</td>\n",
              "      <td>0.133558</td>\n",
              "      <td>-0.021053</td>\n",
              "      <td>149.62</td>\n",
              "      <td>0.0</td>\n",
              "    </tr>\n",
              "    <tr>\n",
              "      <th>1</th>\n",
              "      <td>0</td>\n",
              "      <td>1.191857</td>\n",
              "      <td>0.266151</td>\n",
              "      <td>0.166480</td>\n",
              "      <td>0.448154</td>\n",
              "      <td>0.060018</td>\n",
              "      <td>-0.082361</td>\n",
              "      <td>-0.078803</td>\n",
              "      <td>0.085102</td>\n",
              "      <td>-0.255425</td>\n",
              "      <td>...</td>\n",
              "      <td>-0.225775</td>\n",
              "      <td>-0.638672</td>\n",
              "      <td>0.101288</td>\n",
              "      <td>-0.339846</td>\n",
              "      <td>0.167170</td>\n",
              "      <td>0.125895</td>\n",
              "      <td>-0.008983</td>\n",
              "      <td>0.014724</td>\n",
              "      <td>2.69</td>\n",
              "      <td>0.0</td>\n",
              "    </tr>\n",
              "    <tr>\n",
              "      <th>2</th>\n",
              "      <td>1</td>\n",
              "      <td>-1.358354</td>\n",
              "      <td>-1.340163</td>\n",
              "      <td>1.773209</td>\n",
              "      <td>0.379780</td>\n",
              "      <td>-0.503198</td>\n",
              "      <td>1.800499</td>\n",
              "      <td>0.791461</td>\n",
              "      <td>0.247676</td>\n",
              "      <td>-1.514654</td>\n",
              "      <td>...</td>\n",
              "      <td>0.247998</td>\n",
              "      <td>0.771679</td>\n",
              "      <td>0.909412</td>\n",
              "      <td>-0.689281</td>\n",
              "      <td>-0.327642</td>\n",
              "      <td>-0.139097</td>\n",
              "      <td>-0.055353</td>\n",
              "      <td>-0.059752</td>\n",
              "      <td>378.66</td>\n",
              "      <td>0.0</td>\n",
              "    </tr>\n",
              "    <tr>\n",
              "      <th>3</th>\n",
              "      <td>1</td>\n",
              "      <td>-0.966272</td>\n",
              "      <td>-0.185226</td>\n",
              "      <td>1.792993</td>\n",
              "      <td>-0.863291</td>\n",
              "      <td>-0.010309</td>\n",
              "      <td>1.247203</td>\n",
              "      <td>0.237609</td>\n",
              "      <td>0.377436</td>\n",
              "      <td>-1.387024</td>\n",
              "      <td>...</td>\n",
              "      <td>-0.108300</td>\n",
              "      <td>0.005274</td>\n",
              "      <td>-0.190321</td>\n",
              "      <td>-1.175575</td>\n",
              "      <td>0.647376</td>\n",
              "      <td>-0.221929</td>\n",
              "      <td>0.062723</td>\n",
              "      <td>0.061458</td>\n",
              "      <td>123.50</td>\n",
              "      <td>0.0</td>\n",
              "    </tr>\n",
              "    <tr>\n",
              "      <th>4</th>\n",
              "      <td>2</td>\n",
              "      <td>-1.158233</td>\n",
              "      <td>0.877737</td>\n",
              "      <td>1.548718</td>\n",
              "      <td>0.403034</td>\n",
              "      <td>-0.407193</td>\n",
              "      <td>0.095921</td>\n",
              "      <td>0.592941</td>\n",
              "      <td>-0.270533</td>\n",
              "      <td>0.817739</td>\n",
              "      <td>...</td>\n",
              "      <td>-0.009431</td>\n",
              "      <td>0.798278</td>\n",
              "      <td>-0.137458</td>\n",
              "      <td>0.141267</td>\n",
              "      <td>-0.206010</td>\n",
              "      <td>0.502292</td>\n",
              "      <td>0.219422</td>\n",
              "      <td>0.215153</td>\n",
              "      <td>69.99</td>\n",
              "      <td>0.0</td>\n",
              "    </tr>\n",
              "  </tbody>\n",
              "</table>\n",
              "<p>5 rows × 31 columns</p>\n",
              "</div>\n",
              "      <button class=\"colab-df-convert\" onclick=\"convertToInteractive('df-cb454390-c01b-4262-8798-95bfde4c6060')\"\n",
              "              title=\"Convert this dataframe to an interactive table.\"\n",
              "              style=\"display:none;\">\n",
              "        \n",
              "  <svg xmlns=\"http://www.w3.org/2000/svg\" height=\"24px\"viewBox=\"0 0 24 24\"\n",
              "       width=\"24px\">\n",
              "    <path d=\"M0 0h24v24H0V0z\" fill=\"none\"/>\n",
              "    <path d=\"M18.56 5.44l.94 2.06.94-2.06 2.06-.94-2.06-.94-.94-2.06-.94 2.06-2.06.94zm-11 1L8.5 8.5l.94-2.06 2.06-.94-2.06-.94L8.5 2.5l-.94 2.06-2.06.94zm10 10l.94 2.06.94-2.06 2.06-.94-2.06-.94-.94-2.06-.94 2.06-2.06.94z\"/><path d=\"M17.41 7.96l-1.37-1.37c-.4-.4-.92-.59-1.43-.59-.52 0-1.04.2-1.43.59L10.3 9.45l-7.72 7.72c-.78.78-.78 2.05 0 2.83L4 21.41c.39.39.9.59 1.41.59.51 0 1.02-.2 1.41-.59l7.78-7.78 2.81-2.81c.8-.78.8-2.07 0-2.86zM5.41 20L4 18.59l7.72-7.72 1.47 1.35L5.41 20z\"/>\n",
              "  </svg>\n",
              "      </button>\n",
              "      \n",
              "  <style>\n",
              "    .colab-df-container {\n",
              "      display:flex;\n",
              "      flex-wrap:wrap;\n",
              "      gap: 12px;\n",
              "    }\n",
              "\n",
              "    .colab-df-convert {\n",
              "      background-color: #E8F0FE;\n",
              "      border: none;\n",
              "      border-radius: 50%;\n",
              "      cursor: pointer;\n",
              "      display: none;\n",
              "      fill: #1967D2;\n",
              "      height: 32px;\n",
              "      padding: 0 0 0 0;\n",
              "      width: 32px;\n",
              "    }\n",
              "\n",
              "    .colab-df-convert:hover {\n",
              "      background-color: #E2EBFA;\n",
              "      box-shadow: 0px 1px 2px rgba(60, 64, 67, 0.3), 0px 1px 3px 1px rgba(60, 64, 67, 0.15);\n",
              "      fill: #174EA6;\n",
              "    }\n",
              "\n",
              "    [theme=dark] .colab-df-convert {\n",
              "      background-color: #3B4455;\n",
              "      fill: #D2E3FC;\n",
              "    }\n",
              "\n",
              "    [theme=dark] .colab-df-convert:hover {\n",
              "      background-color: #434B5C;\n",
              "      box-shadow: 0px 1px 3px 1px rgba(0, 0, 0, 0.15);\n",
              "      filter: drop-shadow(0px 1px 2px rgba(0, 0, 0, 0.3));\n",
              "      fill: #FFFFFF;\n",
              "    }\n",
              "  </style>\n",
              "\n",
              "      <script>\n",
              "        const buttonEl =\n",
              "          document.querySelector('#df-cb454390-c01b-4262-8798-95bfde4c6060 button.colab-df-convert');\n",
              "        buttonEl.style.display =\n",
              "          google.colab.kernel.accessAllowed ? 'block' : 'none';\n",
              "\n",
              "        async function convertToInteractive(key) {\n",
              "          const element = document.querySelector('#df-cb454390-c01b-4262-8798-95bfde4c6060');\n",
              "          const dataTable =\n",
              "            await google.colab.kernel.invokeFunction('convertToInteractive',\n",
              "                                                     [key], {});\n",
              "          if (!dataTable) return;\n",
              "\n",
              "          const docLinkHtml = 'Like what you see? Visit the ' +\n",
              "            '<a target=\"_blank\" href=https://colab.research.google.com/notebooks/data_table.ipynb>data table notebook</a>'\n",
              "            + ' to learn more about interactive tables.';\n",
              "          element.innerHTML = '';\n",
              "          dataTable['output_type'] = 'display_data';\n",
              "          await google.colab.output.renderOutput(dataTable, element);\n",
              "          const docLink = document.createElement('div');\n",
              "          docLink.innerHTML = docLinkHtml;\n",
              "          element.appendChild(docLink);\n",
              "        }\n",
              "      </script>\n",
              "    </div>\n",
              "  </div>\n",
              "  "
            ]
          },
          "metadata": {},
          "execution_count": 5
        }
      ]
    },
    {
      "cell_type": "code",
      "source": [
        "# last rows of the dataset\n",
        "credit_card_data.tail()"
      ],
      "metadata": {
        "id": "jJKQ-wcjFH1y",
        "outputId": "53ed1265-253b-4741-fb0d-d08da4cf1c29",
        "colab": {
          "base_uri": "https://localhost:8080/",
          "height": 299
        }
      },
      "execution_count": null,
      "outputs": [
        {
          "output_type": "execute_result",
          "data": {
            "text/plain": [
              "      Time        V1        V2        V3        V4        V5        V6  \\\n",
              "1981  1524 -0.340622  1.132232  1.291494  0.062313  0.016387 -0.977070   \n",
              "1982  1525 -1.842696  1.740641  0.861526 -0.856315 -0.655376 -0.842786   \n",
              "1983  1525 -0.480693  0.646091  1.577264 -0.084411 -0.305958 -0.534739   \n",
              "1984  1525 -0.342132  1.091125  1.282729  0.068076 -0.022498 -0.996727   \n",
              "1985  1526 -0.854343  1.382948  1.278665  2.914727 -0.183139 -0.349329   \n",
              "\n",
              "            V7        V8        V9  ...       V21       V22       V23  \\\n",
              "1981  0.723755 -0.074630 -0.396655  ... -0.262948 -0.688785 -0.010937   \n",
              "1982  0.198563  0.602764  0.455595  ... -0.213609 -0.400617  0.030013   \n",
              "1983  0.860346 -0.028569 -0.800705  ...  0.121681  0.175190  0.035986   \n",
              "1984  0.676304 -0.042250 -0.312036  ... -0.269850 -0.734148 -0.007354   \n",
              "1985  0.274566  0.435277 -1.576521  ...       NaN       NaN       NaN   \n",
              "\n",
              "           V24       V25       V26       V27       V28  Amount  Class  \n",
              "1981  0.334061 -0.160025  0.071779  0.245128  0.098336    5.35    0.0  \n",
              "1982  0.512611 -0.077087  0.286218  0.586012  0.352610    1.00    0.0  \n",
              "1983  0.557665 -0.112301  0.337154 -0.015602  0.051504   80.70    0.0  \n",
              "1984  0.319161 -0.179146  0.073683  0.241932  0.097139    3.59    0.0  \n",
              "1985       NaN       NaN       NaN       NaN       NaN     NaN    NaN  \n",
              "\n",
              "[5 rows x 31 columns]"
            ],
            "text/html": [
              "\n",
              "  <div id=\"df-e5326796-a0b2-49d8-a07e-a2dbc43e9437\">\n",
              "    <div class=\"colab-df-container\">\n",
              "      <div>\n",
              "<style scoped>\n",
              "    .dataframe tbody tr th:only-of-type {\n",
              "        vertical-align: middle;\n",
              "    }\n",
              "\n",
              "    .dataframe tbody tr th {\n",
              "        vertical-align: top;\n",
              "    }\n",
              "\n",
              "    .dataframe thead th {\n",
              "        text-align: right;\n",
              "    }\n",
              "</style>\n",
              "<table border=\"1\" class=\"dataframe\">\n",
              "  <thead>\n",
              "    <tr style=\"text-align: right;\">\n",
              "      <th></th>\n",
              "      <th>Time</th>\n",
              "      <th>V1</th>\n",
              "      <th>V2</th>\n",
              "      <th>V3</th>\n",
              "      <th>V4</th>\n",
              "      <th>V5</th>\n",
              "      <th>V6</th>\n",
              "      <th>V7</th>\n",
              "      <th>V8</th>\n",
              "      <th>V9</th>\n",
              "      <th>...</th>\n",
              "      <th>V21</th>\n",
              "      <th>V22</th>\n",
              "      <th>V23</th>\n",
              "      <th>V24</th>\n",
              "      <th>V25</th>\n",
              "      <th>V26</th>\n",
              "      <th>V27</th>\n",
              "      <th>V28</th>\n",
              "      <th>Amount</th>\n",
              "      <th>Class</th>\n",
              "    </tr>\n",
              "  </thead>\n",
              "  <tbody>\n",
              "    <tr>\n",
              "      <th>1981</th>\n",
              "      <td>1524</td>\n",
              "      <td>-0.340622</td>\n",
              "      <td>1.132232</td>\n",
              "      <td>1.291494</td>\n",
              "      <td>0.062313</td>\n",
              "      <td>0.016387</td>\n",
              "      <td>-0.977070</td>\n",
              "      <td>0.723755</td>\n",
              "      <td>-0.074630</td>\n",
              "      <td>-0.396655</td>\n",
              "      <td>...</td>\n",
              "      <td>-0.262948</td>\n",
              "      <td>-0.688785</td>\n",
              "      <td>-0.010937</td>\n",
              "      <td>0.334061</td>\n",
              "      <td>-0.160025</td>\n",
              "      <td>0.071779</td>\n",
              "      <td>0.245128</td>\n",
              "      <td>0.098336</td>\n",
              "      <td>5.35</td>\n",
              "      <td>0.0</td>\n",
              "    </tr>\n",
              "    <tr>\n",
              "      <th>1982</th>\n",
              "      <td>1525</td>\n",
              "      <td>-1.842696</td>\n",
              "      <td>1.740641</td>\n",
              "      <td>0.861526</td>\n",
              "      <td>-0.856315</td>\n",
              "      <td>-0.655376</td>\n",
              "      <td>-0.842786</td>\n",
              "      <td>0.198563</td>\n",
              "      <td>0.602764</td>\n",
              "      <td>0.455595</td>\n",
              "      <td>...</td>\n",
              "      <td>-0.213609</td>\n",
              "      <td>-0.400617</td>\n",
              "      <td>0.030013</td>\n",
              "      <td>0.512611</td>\n",
              "      <td>-0.077087</td>\n",
              "      <td>0.286218</td>\n",
              "      <td>0.586012</td>\n",
              "      <td>0.352610</td>\n",
              "      <td>1.00</td>\n",
              "      <td>0.0</td>\n",
              "    </tr>\n",
              "    <tr>\n",
              "      <th>1983</th>\n",
              "      <td>1525</td>\n",
              "      <td>-0.480693</td>\n",
              "      <td>0.646091</td>\n",
              "      <td>1.577264</td>\n",
              "      <td>-0.084411</td>\n",
              "      <td>-0.305958</td>\n",
              "      <td>-0.534739</td>\n",
              "      <td>0.860346</td>\n",
              "      <td>-0.028569</td>\n",
              "      <td>-0.800705</td>\n",
              "      <td>...</td>\n",
              "      <td>0.121681</td>\n",
              "      <td>0.175190</td>\n",
              "      <td>0.035986</td>\n",
              "      <td>0.557665</td>\n",
              "      <td>-0.112301</td>\n",
              "      <td>0.337154</td>\n",
              "      <td>-0.015602</td>\n",
              "      <td>0.051504</td>\n",
              "      <td>80.70</td>\n",
              "      <td>0.0</td>\n",
              "    </tr>\n",
              "    <tr>\n",
              "      <th>1984</th>\n",
              "      <td>1525</td>\n",
              "      <td>-0.342132</td>\n",
              "      <td>1.091125</td>\n",
              "      <td>1.282729</td>\n",
              "      <td>0.068076</td>\n",
              "      <td>-0.022498</td>\n",
              "      <td>-0.996727</td>\n",
              "      <td>0.676304</td>\n",
              "      <td>-0.042250</td>\n",
              "      <td>-0.312036</td>\n",
              "      <td>...</td>\n",
              "      <td>-0.269850</td>\n",
              "      <td>-0.734148</td>\n",
              "      <td>-0.007354</td>\n",
              "      <td>0.319161</td>\n",
              "      <td>-0.179146</td>\n",
              "      <td>0.073683</td>\n",
              "      <td>0.241932</td>\n",
              "      <td>0.097139</td>\n",
              "      <td>3.59</td>\n",
              "      <td>0.0</td>\n",
              "    </tr>\n",
              "    <tr>\n",
              "      <th>1985</th>\n",
              "      <td>1526</td>\n",
              "      <td>-0.854343</td>\n",
              "      <td>1.382948</td>\n",
              "      <td>1.278665</td>\n",
              "      <td>2.914727</td>\n",
              "      <td>-0.183139</td>\n",
              "      <td>-0.349329</td>\n",
              "      <td>0.274566</td>\n",
              "      <td>0.435277</td>\n",
              "      <td>-1.576521</td>\n",
              "      <td>...</td>\n",
              "      <td>NaN</td>\n",
              "      <td>NaN</td>\n",
              "      <td>NaN</td>\n",
              "      <td>NaN</td>\n",
              "      <td>NaN</td>\n",
              "      <td>NaN</td>\n",
              "      <td>NaN</td>\n",
              "      <td>NaN</td>\n",
              "      <td>NaN</td>\n",
              "      <td>NaN</td>\n",
              "    </tr>\n",
              "  </tbody>\n",
              "</table>\n",
              "<p>5 rows × 31 columns</p>\n",
              "</div>\n",
              "      <button class=\"colab-df-convert\" onclick=\"convertToInteractive('df-e5326796-a0b2-49d8-a07e-a2dbc43e9437')\"\n",
              "              title=\"Convert this dataframe to an interactive table.\"\n",
              "              style=\"display:none;\">\n",
              "        \n",
              "  <svg xmlns=\"http://www.w3.org/2000/svg\" height=\"24px\"viewBox=\"0 0 24 24\"\n",
              "       width=\"24px\">\n",
              "    <path d=\"M0 0h24v24H0V0z\" fill=\"none\"/>\n",
              "    <path d=\"M18.56 5.44l.94 2.06.94-2.06 2.06-.94-2.06-.94-.94-2.06-.94 2.06-2.06.94zm-11 1L8.5 8.5l.94-2.06 2.06-.94-2.06-.94L8.5 2.5l-.94 2.06-2.06.94zm10 10l.94 2.06.94-2.06 2.06-.94-2.06-.94-.94-2.06-.94 2.06-2.06.94z\"/><path d=\"M17.41 7.96l-1.37-1.37c-.4-.4-.92-.59-1.43-.59-.52 0-1.04.2-1.43.59L10.3 9.45l-7.72 7.72c-.78.78-.78 2.05 0 2.83L4 21.41c.39.39.9.59 1.41.59.51 0 1.02-.2 1.41-.59l7.78-7.78 2.81-2.81c.8-.78.8-2.07 0-2.86zM5.41 20L4 18.59l7.72-7.72 1.47 1.35L5.41 20z\"/>\n",
              "  </svg>\n",
              "      </button>\n",
              "      \n",
              "  <style>\n",
              "    .colab-df-container {\n",
              "      display:flex;\n",
              "      flex-wrap:wrap;\n",
              "      gap: 12px;\n",
              "    }\n",
              "\n",
              "    .colab-df-convert {\n",
              "      background-color: #E8F0FE;\n",
              "      border: none;\n",
              "      border-radius: 50%;\n",
              "      cursor: pointer;\n",
              "      display: none;\n",
              "      fill: #1967D2;\n",
              "      height: 32px;\n",
              "      padding: 0 0 0 0;\n",
              "      width: 32px;\n",
              "    }\n",
              "\n",
              "    .colab-df-convert:hover {\n",
              "      background-color: #E2EBFA;\n",
              "      box-shadow: 0px 1px 2px rgba(60, 64, 67, 0.3), 0px 1px 3px 1px rgba(60, 64, 67, 0.15);\n",
              "      fill: #174EA6;\n",
              "    }\n",
              "\n",
              "    [theme=dark] .colab-df-convert {\n",
              "      background-color: #3B4455;\n",
              "      fill: #D2E3FC;\n",
              "    }\n",
              "\n",
              "    [theme=dark] .colab-df-convert:hover {\n",
              "      background-color: #434B5C;\n",
              "      box-shadow: 0px 1px 3px 1px rgba(0, 0, 0, 0.15);\n",
              "      filter: drop-shadow(0px 1px 2px rgba(0, 0, 0, 0.3));\n",
              "      fill: #FFFFFF;\n",
              "    }\n",
              "  </style>\n",
              "\n",
              "      <script>\n",
              "        const buttonEl =\n",
              "          document.querySelector('#df-e5326796-a0b2-49d8-a07e-a2dbc43e9437 button.colab-df-convert');\n",
              "        buttonEl.style.display =\n",
              "          google.colab.kernel.accessAllowed ? 'block' : 'none';\n",
              "\n",
              "        async function convertToInteractive(key) {\n",
              "          const element = document.querySelector('#df-e5326796-a0b2-49d8-a07e-a2dbc43e9437');\n",
              "          const dataTable =\n",
              "            await google.colab.kernel.invokeFunction('convertToInteractive',\n",
              "                                                     [key], {});\n",
              "          if (!dataTable) return;\n",
              "\n",
              "          const docLinkHtml = 'Like what you see? Visit the ' +\n",
              "            '<a target=\"_blank\" href=https://colab.research.google.com/notebooks/data_table.ipynb>data table notebook</a>'\n",
              "            + ' to learn more about interactive tables.';\n",
              "          element.innerHTML = '';\n",
              "          dataTable['output_type'] = 'display_data';\n",
              "          await google.colab.output.renderOutput(dataTable, element);\n",
              "          const docLink = document.createElement('div');\n",
              "          docLink.innerHTML = docLinkHtml;\n",
              "          element.appendChild(docLink);\n",
              "        }\n",
              "      </script>\n",
              "    </div>\n",
              "  </div>\n",
              "  "
            ]
          },
          "metadata": {},
          "execution_count": 6
        }
      ]
    },
    {
      "cell_type": "code",
      "source": [
        "# dataset information\n",
        "credit_card_data.info()"
      ],
      "metadata": {
        "id": "ZIsgQNDXFD5V",
        "outputId": "00efeee1-45c1-42c0-c796-1e6c984ca3a7",
        "colab": {
          "base_uri": "https://localhost:8080/"
        }
      },
      "execution_count": null,
      "outputs": [
        {
          "output_type": "stream",
          "name": "stdout",
          "text": [
            "<class 'pandas.core.frame.DataFrame'>\n",
            "RangeIndex: 1986 entries, 0 to 1985\n",
            "Data columns (total 31 columns):\n",
            " #   Column  Non-Null Count  Dtype  \n",
            "---  ------  --------------  -----  \n",
            " 0   Time    1986 non-null   int64  \n",
            " 1   V1      1986 non-null   float64\n",
            " 2   V2      1986 non-null   float64\n",
            " 3   V3      1986 non-null   float64\n",
            " 4   V4      1986 non-null   float64\n",
            " 5   V5      1986 non-null   float64\n",
            " 6   V6      1986 non-null   float64\n",
            " 7   V7      1986 non-null   float64\n",
            " 8   V8      1986 non-null   float64\n",
            " 9   V9      1986 non-null   float64\n",
            " 10  V10     1986 non-null   float64\n",
            " 11  V11     1986 non-null   float64\n",
            " 12  V12     1986 non-null   float64\n",
            " 13  V13     1986 non-null   float64\n",
            " 14  V14     1985 non-null   float64\n",
            " 15  V15     1985 non-null   float64\n",
            " 16  V16     1985 non-null   float64\n",
            " 17  V17     1985 non-null   float64\n",
            " 18  V18     1985 non-null   float64\n",
            " 19  V19     1985 non-null   float64\n",
            " 20  V20     1985 non-null   float64\n",
            " 21  V21     1985 non-null   float64\n",
            " 22  V22     1985 non-null   float64\n",
            " 23  V23     1985 non-null   float64\n",
            " 24  V24     1985 non-null   float64\n",
            " 25  V25     1985 non-null   float64\n",
            " 26  V26     1985 non-null   float64\n",
            " 27  V27     1985 non-null   float64\n",
            " 28  V28     1985 non-null   float64\n",
            " 29  Amount  1985 non-null   float64\n",
            " 30  Class   1985 non-null   float64\n",
            "dtypes: float64(30), int64(1)\n",
            "memory usage: 481.1 KB\n"
          ]
        }
      ]
    },
    {
      "cell_type": "code",
      "source": [
        "# checking the number of missing values in each column\n",
        "credit_card_data.isnull().sum()"
      ],
      "metadata": {
        "id": "y-WC0TwmFWMg",
        "outputId": "5ae68876-5add-45d1-abe1-3f9029bb9dd2",
        "colab": {
          "base_uri": "https://localhost:8080/"
        }
      },
      "execution_count": null,
      "outputs": [
        {
          "output_type": "execute_result",
          "data": {
            "text/plain": [
              "Time      0\n",
              "V1        0\n",
              "V2        0\n",
              "V3        0\n",
              "V4        0\n",
              "V5        0\n",
              "V6        0\n",
              "V7        0\n",
              "V8        0\n",
              "V9        0\n",
              "V10       0\n",
              "V11       0\n",
              "V12       0\n",
              "V13       0\n",
              "V14       1\n",
              "V15       1\n",
              "V16       1\n",
              "V17       1\n",
              "V18       1\n",
              "V19       1\n",
              "V20       1\n",
              "V21       1\n",
              "V22       1\n",
              "V23       1\n",
              "V24       1\n",
              "V25       1\n",
              "V26       1\n",
              "V27       1\n",
              "V28       1\n",
              "Amount    1\n",
              "Class     1\n",
              "dtype: int64"
            ]
          },
          "metadata": {},
          "execution_count": 8
        }
      ]
    },
    {
      "cell_type": "code",
      "source": [
        "# distribution of legit transactions & fraudulent transactions\n",
        "credit_card_data['Class'].value_counts()"
      ],
      "metadata": {
        "id": "idYQA0daFnuz",
        "outputId": "47b47449-e5f3-45a5-ca70-ea0b38c5768a",
        "colab": {
          "base_uri": "https://localhost:8080/"
        }
      },
      "execution_count": null,
      "outputs": [
        {
          "output_type": "execute_result",
          "data": {
            "text/plain": [
              "0.0    1983\n",
              "1.0       2\n",
              "Name: Class, dtype: int64"
            ]
          },
          "metadata": {},
          "execution_count": 9
        }
      ]
    },
    {
      "cell_type": "markdown",
      "source": [
        "This dataset is highly unbalanced\n",
        "\n",
        "0 --> Normal Transaction\n",
        "\n",
        "1 --> Fraudulent Transaction"
      ],
      "metadata": {
        "id": "fvfjDN0_GTc4"
      }
    },
    {
      "cell_type": "code",
      "source": [
        "# separating the data for analysis\n",
        "legit = credit_card_data[credit_card_data.Class == 0]\n",
        "fraud = credit_card_data[credit_card_data.Class == 1]"
      ],
      "metadata": {
        "id": "WDywEIJWGgRl"
      },
      "execution_count": null,
      "outputs": []
    },
    {
      "cell_type": "code",
      "source": [
        "print(legit.shape)\n",
        "print(fraud.shape)"
      ],
      "metadata": {
        "id": "lG0Sc73ZG0Na",
        "outputId": "7d097998-4ef1-4457-d959-7c57e49ce660",
        "colab": {
          "base_uri": "https://localhost:8080/"
        }
      },
      "execution_count": null,
      "outputs": [
        {
          "output_type": "stream",
          "name": "stdout",
          "text": [
            "(1983, 31)\n",
            "(2, 31)\n"
          ]
        }
      ]
    },
    {
      "cell_type": "code",
      "source": [
        "f, (axis1, axis2) = plt.subplots(2, 1, sharex=True, figsize=(12,4))\n",
        "\n",
        "bins = 50\n",
        "\n",
        "axis1.hist(credit_card_data.Time[credit_card_data.Class == 1], bins = bins)\n",
        "axis1.set_title('Fraud')\n",
        "\n",
        "axis2.hist(credit_card_data.Time[credit_card_data.Class == 0], bins = bins)\n",
        "axis2.set_title('Normal')\n",
        "\n",
        "plt.xlabel('Time (in Seconds)')\n",
        "plt.ylabel('Number of Transactions')\n",
        "plt.show()"
      ],
      "metadata": {
        "id": "EQ9o7zobU4Ot",
        "outputId": "f034eeeb-6f6f-4807-a162-36b2fd59d751",
        "colab": {
          "base_uri": "https://localhost:8080/",
          "height": 295
        }
      },
      "execution_count": null,
      "outputs": [
        {
          "output_type": "display_data",
          "data": {
            "text/plain": [
              "<Figure size 864x288 with 2 Axes>"
            ],
            "image/png": "[encoded data removed]"
          },
          "metadata": {
            "needs_background": "light"
          }
        }
      ]
    },
    {
      "cell_type": "code",
      "source": [
        "# statistical measures of the data\n",
        "legit.Amount.describe()"
      ],
      "metadata": {
        "id": "Z3hD2lnXG43K",
        "outputId": "a1e37fb3-19da-43c1-f918-8864d9691861",
        "colab": {
          "base_uri": "https://localhost:8080/"
        }
      },
      "execution_count": null,
      "outputs": [
        {
          "output_type": "execute_result",
          "data": {
            "text/plain": [
              "count    1983.000000\n",
              "mean       68.404892\n",
              "std       241.572682\n",
              "min         0.000000\n",
              "25%         4.950000\n",
              "50%        15.090000\n",
              "75%        63.285000\n",
              "max      7712.430000\n",
              "Name: Amount, dtype: float64"
            ]
          },
          "metadata": {},
          "execution_count": 13
        }
      ]
    },
    {
      "cell_type": "code",
      "source": [
        "fraud.Amount.describe()"
      ],
      "metadata": {
        "id": "ChpMqLMaHCaq",
        "outputId": "b39b54d1-ef91-47dc-e27b-1003110828e4",
        "colab": {
          "base_uri": "https://localhost:8080/"
        }
      },
      "execution_count": null,
      "outputs": [
        {
          "output_type": "execute_result",
          "data": {
            "text/plain": [
              "count      2.000000\n",
              "mean     264.500000\n",
              "std      374.059487\n",
              "min        0.000000\n",
              "25%      132.250000\n",
              "50%      264.500000\n",
              "75%      396.750000\n",
              "max      529.000000\n",
              "Name: Amount, dtype: float64"
            ]
          },
          "metadata": {},
          "execution_count": 14
        }
      ]
    },
    {
      "cell_type": "code",
      "source": [
        "f, (axis1, axis2) = plt.subplots(2, 1, sharex=True, figsize=(12, 4))\n",
        " \n",
        "bins = 20\n",
        "\n",
        "axis1.hist(credit_card_data.Amount[credit_card_data.Class == 1], bins = bins)\n",
        "axis1.set_title('Fraud')\n",
        "\n",
        "axis2.hist(credit_card_data.Amount[credit_card_data.Class == 1], bins = bins)\n",
        "axis2.set_title('Normal')\n",
        "\n",
        "plt.xlabel('Amount ($)')\n",
        "plt.ylabel('Number of Transactions')\n",
        "plt.yscale('log')\n",
        "plt.show()"
      ],
      "metadata": {
        "id": "BOzTxD1ZWzXd",
        "outputId": "2b8028e4-308d-4ac5-ede6-f1acfeb186a9",
        "colab": {
          "base_uri": "https://localhost:8080/",
          "height": 295
        }
      },
      "execution_count": null,
      "outputs": [
        {
          "output_type": "display_data",
          "data": {
            "text/plain": [
              "<Figure size 864x288 with 2 Axes>"
            ],
            "image/png": "[encoded data removed]"
          },
          "metadata": {
            "needs_background": "light"
          }
        }
      ]
    },
    {
      "cell_type": "code",
      "source": [
        "# compare the values for both transactions\n",
        "credit_card_data.groupby('Class').mean"
      ],
      "metadata": {
        "id": "VtxSckOEHGLB",
        "outputId": "a6309e88-4343-4b40-da85-a957bce28886",
        "colab": {
          "base_uri": "https://localhost:8080/"
        }
      },
      "execution_count": null,
      "outputs": [
        {
          "output_type": "execute_result",
          "data": {
            "text/plain": [
              "<bound method GroupBy.mean of <pandas.core.groupby.generic.DataFrameGroupBy object at 0x7f47d4a43490>>"
            ]
          },
          "metadata": {},
          "execution_count": 16
        }
      ]
    },
    {
      "cell_type": "code",
      "source": [
        "f, (axis1, axis2) = plt.subplots(2, 1, sharex=True, figsize=(12,6))\n",
        "\n",
        "axis1.scatter(credit_card_data.Time[credit_card_data.Class == 1], credit_card_data.Amount[credit_card_data.Class == 1])\n",
        "axis1.set_title('Fraud')\n",
        "\n",
        "axis2.scatter(credit_card_data.Time[credit_card_data.Class == 0], credit_card_data.Amount[credit_card_data.Class == 0])\n",
        "axis2.set_title('Normal')\n",
        "\n",
        "plt.xlabel('Time (in Seconds)')\n",
        "plt.ylabel('Amount')\n",
        "plt.show()"
      ],
      "metadata": {
        "id": "amdULAAZXtfl",
        "outputId": "84eca301-f4de-4b8c-a420-a94438ed46b7",
        "colab": {
          "base_uri": "https://localhost:8080/",
          "height": 404
        }
      },
      "execution_count": null,
      "outputs": [
        {
          "output_type": "display_data",
          "data": {
            "text/plain": [
              "<Figure size 864x432 with 2 Axes>"
            ],
            "image/png": "[encoded data removed]"
          },
          "metadata": {
            "needs_background": "light"
          }
        }
      ]
    },
    {
      "cell_type": "markdown",
      "source": [
        "Nothing too useful here because of overlapping.\n",
        "\n",
        "Next let's take a look at the anonymized features."
      ],
      "metadata": {
        "id": "PQf1SQ99bRRq"
      }
    },
    {
      "cell_type": "code",
      "source": [
        "#Select only the anonymized features.\n",
        "v_features = credit_card_data.iloc[:, 1:29].columns"
      ],
      "metadata": {
        "id": "iMr26_jubWxd"
      },
      "execution_count": null,
      "outputs": []
    },
    {
      "cell_type": "code",
      "source": [
        "plt.figure(figsize=(18, 28*3))\n",
        "gs = gridspec.GridSpec(28, 1)\n",
        "for i, x in enumerate(credit_card_data[v_features]):\n",
        "    ax = plt.subplot(gs[i])\n",
        "    sns.histplot(credit_card_data[x][credit_card_data.Class == 1], bins=50, color=\"navy\", label=\"100% Equities\", kde=True, stat=\"density\", linewidth=0)\n",
        "    sns.histplot(credit_card_data[x][credit_card_data.Class == 0], bins=50)\n",
        "    ax.set_xlabel('')\n",
        "    ax.set_title('Histogram of feature: ' + str(x))\n",
        "plt.show()"
      ],
      "metadata": {
        "id": "dOa0jLotbHum",
        "outputId": "6ac5ad02-9a95-4b65-9e27-9817945ced3d",
        "colab": {
          "base_uri": "https://localhost:8080/",
          "height": 1000
        }
      },
      "execution_count": null,
      "outputs": [
        {
          "output_type": "display_data",
          "data": {
            "text/plain": [
              "<Figure size 1296x6048 with 28 Axes>"
            ],
            "image/png": "[encoded data removed]"
          },
          "metadata": {
            "needs_background": "light"
          }
        }
      ]
    },
    {
      "cell_type": "code",
      "source": [
        ""
      ],
      "metadata": {
        "id": "V3YxnwQXbVhr"
      },
      "execution_count": null,
      "outputs": []
    },
    {
      "cell_type": "markdown",
      "source": [
        "Under Sampling\n",
        "\n",
        "Build a sample dataset containing similar distribution of Normal Transactions and Fraudulent Transactions\n",
        "\n",
        "Number of Fraudulent Transactions --> 56"
      ],
      "metadata": {
        "id": "FcX1dJDNHUBb"
      }
    },
    {
      "cell_type": "code",
      "source": [
        "legit_sample = legit.sample(n=56)"
      ],
      "metadata": {
        "id": "8SIlahh2HPu5"
      },
      "execution_count": null,
      "outputs": []
    },
    {
      "cell_type": "markdown",
      "source": [
        "Concatenating two DataFrames"
      ],
      "metadata": {
        "id": "JxvM-YUwH9qI"
      }
    },
    {
      "cell_type": "code",
      "source": [
        "new_dataset = pd.concat([legit_sample, fraud], axis=0)"
      ],
      "metadata": {
        "id": "LrpdGRO_IDb7"
      },
      "execution_count": null,
      "outputs": []
    },
    {
      "cell_type": "code",
      "source": [
        "new_dataset.head()"
      ],
      "metadata": {
        "id": "WKMO83WPIjh5",
        "outputId": "8b5a24ad-a0bd-46fe-8e70-7a04d927a7ad",
        "colab": {
          "base_uri": "https://localhost:8080/",
          "height": 299
        }
      },
      "execution_count": null,
      "outputs": [
        {
          "output_type": "execute_result",
          "data": {
            "text/plain": [
              "      Time        V1        V2        V3        V4        V5        V6  \\\n",
              "660    499  1.255439  0.307729  0.292700  0.699873 -0.428876 -1.088456   \n",
              "250    171 -0.365532  1.006932  1.108304 -0.428694  0.590513  0.105474   \n",
              "226    150 -0.399880  1.051966  1.390802  0.093132 -0.007699 -0.717559   \n",
              "698    528 -0.378417  0.751515  1.772256  0.311020 -0.329130 -0.746206   \n",
              "1935  1494  0.913351  0.162820  0.778282  2.722810 -0.657400 -0.824999   \n",
              "\n",
              "            V7        V8        V9  ...       V21       V22       V23  \\\n",
              "660   0.043840 -0.167739  0.128854  ... -0.294795 -0.882126  0.136846   \n",
              "250   0.602926  0.132310 -0.636398  ... -0.250031 -0.663325 -0.189399   \n",
              "226   0.588095  0.085932 -0.310722  ... -0.224926 -0.573766  0.057041   \n",
              "698   0.719034 -0.081805 -0.152417  ... -0.120891 -0.240394 -0.057803   \n",
              "1935  0.245083 -0.138356 -0.658599  ...  0.027785 -0.284201 -0.010595   \n",
              "\n",
              "           V24       V25       V26       V27       V28  Amount  Class  \n",
              "660   0.327949  0.194459  0.096516 -0.027271  0.029491    1.98    0.0  \n",
              "250  -0.845682 -0.055760  0.124845  0.263525  0.099579    0.89    0.0  \n",
              "226   0.329354 -0.302724  0.083883  0.258834  0.096337    0.89    0.0  \n",
              "698   0.733812 -0.049448  0.207357  0.023386  0.057469   25.41    0.0  \n",
              "1935  0.875361  0.278540 -0.117198 -0.036402  0.049627  126.71    0.0  \n",
              "\n",
              "[5 rows x 31 columns]"
            ],
            "text/html": [
              "\n",
              "  <div id=\"df-bc1250ec-fa9b-4f27-aa22-ebcf1d734964\">\n",
              "    <div class=\"colab-df-container\">\n",
              "      <div>\n",
              "<style scoped>\n",
              "    .dataframe tbody tr th:only-of-type {\n",
              "        vertical-align: middle;\n",
              "    }\n",
              "\n",
              "    .dataframe tbody tr th {\n",
              "        vertical-align: top;\n",
              "    }\n",
              "\n",
              "    .dataframe thead th {\n",
              "        text-align: right;\n",
              "    }\n",
              "</style>\n",
              "<table border=\"1\" class=\"dataframe\">\n",
              "  <thead>\n",
              "    <tr style=\"text-align: right;\">\n",
              "      <th></th>\n",
              "      <th>Time</th>\n",
              "      <th>V1</th>\n",
              "      <th>V2</th>\n",
              "      <th>V3</th>\n",
              "      <th>V4</th>\n",
              "      <th>V5</th>\n",
              "      <th>V6</th>\n",
              "      <th>V7</th>\n",
              "      <th>V8</th>\n",
              "      <th>V9</th>\n",
              "      <th>...</th>\n",
              "      <th>V21</th>\n",
              "      <th>V22</th>\n",
              "      <th>V23</th>\n",
              "      <th>V24</th>\n",
              "      <th>V25</th>\n",
              "      <th>V26</th>\n",
              "      <th>V27</th>\n",
              "      <th>V28</th>\n",
              "      <th>Amount</th>\n",
              "      <th>Class</th>\n",
              "    </tr>\n",
              "  </thead>\n",
              "  <tbody>\n",
              "    <tr>\n",
              "      <th>660</th>\n",
              "      <td>499</td>\n",
              "      <td>1.255439</td>\n",
              "      <td>0.307729</td>\n",
              "      <td>0.292700</td>\n",
              "      <td>0.699873</td>\n",
              "      <td>-0.428876</td>\n",
              "      <td>-1.088456</td>\n",
              "      <td>0.043840</td>\n",
              "      <td>-0.167739</td>\n",
              "      <td>0.128854</td>\n",
              "      <td>...</td>\n",
              "      <td>-0.294795</td>\n",
              "      <td>-0.882126</td>\n",
              "      <td>0.136846</td>\n",
              "      <td>0.327949</td>\n",
              "      <td>0.194459</td>\n",
              "      <td>0.096516</td>\n",
              "      <td>-0.027271</td>\n",
              "      <td>0.029491</td>\n",
              "      <td>1.98</td>\n",
              "      <td>0.0</td>\n",
              "    </tr>\n",
              "    <tr>\n",
              "      <th>250</th>\n",
              "      <td>171</td>\n",
              "      <td>-0.365532</td>\n",
              "      <td>1.006932</td>\n",
              "      <td>1.108304</td>\n",
              "      <td>-0.428694</td>\n",
              "      <td>0.590513</td>\n",
              "      <td>0.105474</td>\n",
              "      <td>0.602926</td>\n",
              "      <td>0.132310</td>\n",
              "      <td>-0.636398</td>\n",
              "      <td>...</td>\n",
              "      <td>-0.250031</td>\n",
              "      <td>-0.663325</td>\n",
              "      <td>-0.189399</td>\n",
              "      <td>-0.845682</td>\n",
              "      <td>-0.055760</td>\n",
              "      <td>0.124845</td>\n",
              "      <td>0.263525</td>\n",
              "      <td>0.099579</td>\n",
              "      <td>0.89</td>\n",
              "      <td>0.0</td>\n",
              "    </tr>\n",
              "    <tr>\n",
              "      <th>226</th>\n",
              "      <td>150</td>\n",
              "      <td>-0.399880</td>\n",
              "      <td>1.051966</td>\n",
              "      <td>1.390802</td>\n",
              "      <td>0.093132</td>\n",
              "      <td>-0.007699</td>\n",
              "      <td>-0.717559</td>\n",
              "      <td>0.588095</td>\n",
              "      <td>0.085932</td>\n",
              "      <td>-0.310722</td>\n",
              "      <td>...</td>\n",
              "      <td>-0.224926</td>\n",
              "      <td>-0.573766</td>\n",
              "      <td>0.057041</td>\n",
              "      <td>0.329354</td>\n",
              "      <td>-0.302724</td>\n",
              "      <td>0.083883</td>\n",
              "      <td>0.258834</td>\n",
              "      <td>0.096337</td>\n",
              "      <td>0.89</td>\n",
              "      <td>0.0</td>\n",
              "    </tr>\n",
              "    <tr>\n",
              "      <th>698</th>\n",
              "      <td>528</td>\n",
              "      <td>-0.378417</td>\n",
              "      <td>0.751515</td>\n",
              "      <td>1.772256</td>\n",
              "      <td>0.311020</td>\n",
              "      <td>-0.329130</td>\n",
              "      <td>-0.746206</td>\n",
              "      <td>0.719034</td>\n",
              "      <td>-0.081805</td>\n",
              "      <td>-0.152417</td>\n",
              "      <td>...</td>\n",
              "      <td>-0.120891</td>\n",
              "      <td>-0.240394</td>\n",
              "      <td>-0.057803</td>\n",
              "      <td>0.733812</td>\n",
              "      <td>-0.049448</td>\n",
              "      <td>0.207357</td>\n",
              "      <td>0.023386</td>\n",
              "      <td>0.057469</td>\n",
              "      <td>25.41</td>\n",
              "      <td>0.0</td>\n",
              "    </tr>\n",
              "    <tr>\n",
              "      <th>1935</th>\n",
              "      <td>1494</td>\n",
              "      <td>0.913351</td>\n",
              "      <td>0.162820</td>\n",
              "      <td>0.778282</td>\n",
              "      <td>2.722810</td>\n",
              "      <td>-0.657400</td>\n",
              "      <td>-0.824999</td>\n",
              "      <td>0.245083</td>\n",
              "      <td>-0.138356</td>\n",
              "      <td>-0.658599</td>\n",
              "      <td>...</td>\n",
              "      <td>0.027785</td>\n",
              "      <td>-0.284201</td>\n",
              "      <td>-0.010595</td>\n",
              "      <td>0.875361</td>\n",
              "      <td>0.278540</td>\n",
              "      <td>-0.117198</td>\n",
              "      <td>-0.036402</td>\n",
              "      <td>0.049627</td>\n",
              "      <td>126.71</td>\n",
              "      <td>0.0</td>\n",
              "    </tr>\n",
              "  </tbody>\n",
              "</table>\n",
              "<p>5 rows × 31 columns</p>\n",
              "</div>\n",
              "      <button class=\"colab-df-convert\" onclick=\"convertToInteractive('df-bc1250ec-fa9b-4f27-aa22-ebcf1d734964')\"\n",
              "              title=\"Convert this dataframe to an interactive table.\"\n",
              "              style=\"display:none;\">\n",
              "        \n",
              "  <svg xmlns=\"http://www.w3.org/2000/svg\" height=\"24px\"viewBox=\"0 0 24 24\"\n",
              "       width=\"24px\">\n",
              "    <path d=\"M0 0h24v24H0V0z\" fill=\"none\"/>\n",
              "    <path d=\"M18.56 5.44l.94 2.06.94-2.06 2.06-.94-2.06-.94-.94-2.06-.94 2.06-2.06.94zm-11 1L8.5 8.5l.94-2.06 2.06-.94-2.06-.94L8.5 2.5l-.94 2.06-2.06.94zm10 10l.94 2.06.94-2.06 2.06-.94-2.06-.94-.94-2.06-.94 2.06-2.06.94z\"/><path d=\"M17.41 7.96l-1.37-1.37c-.4-.4-.92-.59-1.43-.59-.52 0-1.04.2-1.43.59L10.3 9.45l-7.72 7.72c-.78.78-.78 2.05 0 2.83L4 21.41c.39.39.9.59 1.41.59.51 0 1.02-.2 1.41-.59l7.78-7.78 2.81-2.81c.8-.78.8-2.07 0-2.86zM5.41 20L4 18.59l7.72-7.72 1.47 1.35L5.41 20z\"/>\n",
              "  </svg>\n",
              "      </button>\n",
              "      \n",
              "  <style>\n",
              "    .colab-df-container {\n",
              "      display:flex;\n",
              "      flex-wrap:wrap;\n",
              "      gap: 12px;\n",
              "    }\n",
              "\n",
              "    .colab-df-convert {\n",
              "      background-color: #E8F0FE;\n",
              "      border: none;\n",
              "      border-radius: 50%;\n",
              "      cursor: pointer;\n",
              "      display: none;\n",
              "      fill: #1967D2;\n",
              "      height: 32px;\n",
              "      padding: 0 0 0 0;\n",
              "      width: 32px;\n",
              "    }\n",
              "\n",
              "    .colab-df-convert:hover {\n",
              "      background-color: #E2EBFA;\n",
              "      box-shadow: 0px 1px 2px rgba(60, 64, 67, 0.3), 0px 1px 3px 1px rgba(60, 64, 67, 0.15);\n",
              "      fill: #174EA6;\n",
              "    }\n",
              "\n",
              "    [theme=dark] .colab-df-convert {\n",
              "      background-color: #3B4455;\n",
              "      fill: #D2E3FC;\n",
              "    }\n",
              "\n",
              "    [theme=dark] .colab-df-convert:hover {\n",
              "      background-color: #434B5C;\n",
              "      box-shadow: 0px 1px 3px 1px rgba(0, 0, 0, 0.15);\n",
              "      filter: drop-shadow(0px 1px 2px rgba(0, 0, 0, 0.3));\n",
              "      fill: #FFFFFF;\n",
              "    }\n",
              "  </style>\n",
              "\n",
              "      <script>\n",
              "        const buttonEl =\n",
              "          document.querySelector('#df-bc1250ec-fa9b-4f27-aa22-ebcf1d734964 button.colab-df-convert');\n",
              "        buttonEl.style.display =\n",
              "          google.colab.kernel.accessAllowed ? 'block' : 'none';\n",
              "\n",
              "        async function convertToInteractive(key) {\n",
              "          const element = document.querySelector('#df-bc1250ec-fa9b-4f27-aa22-ebcf1d734964');\n",
              "          const dataTable =\n",
              "            await google.colab.kernel.invokeFunction('convertToInteractive',\n",
              "                                                     [key], {});\n",
              "          if (!dataTable) return;\n",
              "\n",
              "          const docLinkHtml = 'Like what you see? Visit the ' +\n",
              "            '<a target=\"_blank\" href=https://colab.research.google.com/notebooks/data_table.ipynb>data table notebook</a>'\n",
              "            + ' to learn more about interactive tables.';\n",
              "          element.innerHTML = '';\n",
              "          dataTable['output_type'] = 'display_data';\n",
              "          await google.colab.output.renderOutput(dataTable, element);\n",
              "          const docLink = document.createElement('div');\n",
              "          docLink.innerHTML = docLinkHtml;\n",
              "          element.appendChild(docLink);\n",
              "        }\n",
              "      </script>\n",
              "    </div>\n",
              "  </div>\n",
              "  "
            ]
          },
          "metadata": {},
          "execution_count": 22
        }
      ]
    },
    {
      "cell_type": "code",
      "source": [
        "new_dataset.tail()"
      ],
      "metadata": {
        "id": "pNxzLgsSIlqn",
        "outputId": "7872e3ec-1a1c-42ea-c20d-a3b1e1a4d19f",
        "colab": {
          "base_uri": "https://localhost:8080/",
          "height": 299
        }
      },
      "execution_count": null,
      "outputs": [
        {
          "output_type": "execute_result",
          "data": {
            "text/plain": [
              "      Time        V1        V2        V3        V4        V5        V6  \\\n",
              "1828  1421  1.212129  0.112034  0.222313  0.669416 -0.425354 -0.667387   \n",
              "158     99 -0.883996 -0.150765  2.291791 -0.263452 -0.814535  0.955841   \n",
              "754    564  0.186118 -0.159358 -1.389222 -2.433996  1.753378  3.593082   \n",
              "541    406 -2.312227  1.951992 -1.609851  3.997906 -0.522188 -1.426545   \n",
              "623    472 -3.043541 -3.157307  1.088463  2.288644  1.359805 -1.064823   \n",
              "\n",
              "            V7        V8        V9  ...       V21       V22       V23  \\\n",
              "1828 -0.174886  0.088308  0.437673  ... -0.291333 -0.936416  0.191703   \n",
              "158   0.097631  0.474047  0.139512  ...  0.070901  0.051832  0.110298   \n",
              "754  -1.582165 -1.903514 -1.314805  ... -1.084401  0.656716 -0.139815   \n",
              "541  -2.537387  1.391657 -2.770089  ...  0.517232 -0.035049 -0.465211   \n",
              "623   0.325574 -0.067794 -0.270953  ...  0.661696  0.435477  1.375966   \n",
              "\n",
              "           V24       V25       V26       V27       V28  Amount  Class  \n",
              "1828 -0.040030  0.052108  0.133221 -0.024147  0.021525    1.29    0.0  \n",
              "158  -0.260629 -0.097549  1.155439 -0.021199  0.062565  142.71    0.0  \n",
              "754   1.036164  0.804413 -0.242090  0.103552  0.276180   48.00    0.0  \n",
              "541   0.320198  0.044519  0.177840  0.261145 -0.143276    0.00    1.0  \n",
              "623  -0.293803  0.279798 -0.145362 -0.252773  0.035764  529.00    1.0  \n",
              "\n",
              "[5 rows x 31 columns]"
            ],
            "text/html": [
              "\n",
              "  <div id=\"df-326537b6-83f2-4616-8847-da4fd04da19d\">\n",
              "    <div class=\"colab-df-container\">\n",
              "      <div>\n",
              "<style scoped>\n",
              "    .dataframe tbody tr th:only-of-type {\n",
              "        vertical-align: middle;\n",
              "    }\n",
              "\n",
              "    .dataframe tbody tr th {\n",
              "        vertical-align: top;\n",
              "    }\n",
              "\n",
              "    .dataframe thead th {\n",
              "        text-align: right;\n",
              "    }\n",
              "</style>\n",
              "<table border=\"1\" class=\"dataframe\">\n",
              "  <thead>\n",
              "    <tr style=\"text-align: right;\">\n",
              "      <th></th>\n",
              "      <th>Time</th>\n",
              "      <th>V1</th>\n",
              "      <th>V2</th>\n",
              "      <th>V3</th>\n",
              "      <th>V4</th>\n",
              "      <th>V5</th>\n",
              "      <th>V6</th>\n",
              "      <th>V7</th>\n",
              "      <th>V8</th>\n",
              "      <th>V9</th>\n",
              "      <th>...</th>\n",
              "      <th>V21</th>\n",
              "      <th>V22</th>\n",
              "      <th>V23</th>\n",
              "      <th>V24</th>\n",
              "      <th>V25</th>\n",
              "      <th>V26</th>\n",
              "      <th>V27</th>\n",
              "      <th>V28</th>\n",
              "      <th>Amount</th>\n",
              "      <th>Class</th>\n",
              "    </tr>\n",
              "  </thead>\n",
              "  <tbody>\n",
              "    <tr>\n",
              "      <th>1828</th>\n",
              "      <td>1421</td>\n",
              "      <td>1.212129</td>\n",
              "      <td>0.112034</td>\n",
              "      <td>0.222313</td>\n",
              "      <td>0.669416</td>\n",
              "      <td>-0.425354</td>\n",
              "      <td>-0.667387</td>\n",
              "      <td>-0.174886</td>\n",
              "      <td>0.088308</td>\n",
              "      <td>0.437673</td>\n",
              "      <td>...</td>\n",
              "      <td>-0.291333</td>\n",
              "      <td>-0.936416</td>\n",
              "      <td>0.191703</td>\n",
              "      <td>-0.040030</td>\n",
              "      <td>0.052108</td>\n",
              "      <td>0.133221</td>\n",
              "      <td>-0.024147</td>\n",
              "      <td>0.021525</td>\n",
              "      <td>1.29</td>\n",
              "      <td>0.0</td>\n",
              "    </tr>\n",
              "    <tr>\n",
              "      <th>158</th>\n",
              "      <td>99</td>\n",
              "      <td>-0.883996</td>\n",
              "      <td>-0.150765</td>\n",
              "      <td>2.291791</td>\n",
              "      <td>-0.263452</td>\n",
              "      <td>-0.814535</td>\n",
              "      <td>0.955841</td>\n",
              "      <td>0.097631</td>\n",
              "      <td>0.474047</td>\n",
              "      <td>0.139512</td>\n",
              "      <td>...</td>\n",
              "      <td>0.070901</td>\n",
              "      <td>0.051832</td>\n",
              "      <td>0.110298</td>\n",
              "      <td>-0.260629</td>\n",
              "      <td>-0.097549</td>\n",
              "      <td>1.155439</td>\n",
              "      <td>-0.021199</td>\n",
              "      <td>0.062565</td>\n",
              "      <td>142.71</td>\n",
              "      <td>0.0</td>\n",
              "    </tr>\n",
              "    <tr>\n",
              "      <th>754</th>\n",
              "      <td>564</td>\n",
              "      <td>0.186118</td>\n",
              "      <td>-0.159358</td>\n",
              "      <td>-1.389222</td>\n",
              "      <td>-2.433996</td>\n",
              "      <td>1.753378</td>\n",
              "      <td>3.593082</td>\n",
              "      <td>-1.582165</td>\n",
              "      <td>-1.903514</td>\n",
              "      <td>-1.314805</td>\n",
              "      <td>...</td>\n",
              "      <td>-1.084401</td>\n",
              "      <td>0.656716</td>\n",
              "      <td>-0.139815</td>\n",
              "      <td>1.036164</td>\n",
              "      <td>0.804413</td>\n",
              "      <td>-0.242090</td>\n",
              "      <td>0.103552</td>\n",
              "      <td>0.276180</td>\n",
              "      <td>48.00</td>\n",
              "      <td>0.0</td>\n",
              "    </tr>\n",
              "    <tr>\n",
              "      <th>541</th>\n",
              "      <td>406</td>\n",
              "      <td>-2.312227</td>\n",
              "      <td>1.951992</td>\n",
              "      <td>-1.609851</td>\n",
              "      <td>3.997906</td>\n",
              "      <td>-0.522188</td>\n",
              "      <td>-1.426545</td>\n",
              "      <td>-2.537387</td>\n",
              "      <td>1.391657</td>\n",
              "      <td>-2.770089</td>\n",
              "      <td>...</td>\n",
              "      <td>0.517232</td>\n",
              "      <td>-0.035049</td>\n",
              "      <td>-0.465211</td>\n",
              "      <td>0.320198</td>\n",
              "      <td>0.044519</td>\n",
              "      <td>0.177840</td>\n",
              "      <td>0.261145</td>\n",
              "      <td>-0.143276</td>\n",
              "      <td>0.00</td>\n",
              "      <td>1.0</td>\n",
              "    </tr>\n",
              "    <tr>\n",
              "      <th>623</th>\n",
              "      <td>472</td>\n",
              "      <td>-3.043541</td>\n",
              "      <td>-3.157307</td>\n",
              "      <td>1.088463</td>\n",
              "      <td>2.288644</td>\n",
              "      <td>1.359805</td>\n",
              "      <td>-1.064823</td>\n",
              "      <td>0.325574</td>\n",
              "      <td>-0.067794</td>\n",
              "      <td>-0.270953</td>\n",
              "      <td>...</td>\n",
              "      <td>0.661696</td>\n",
              "      <td>0.435477</td>\n",
              "      <td>1.375966</td>\n",
              "      <td>-0.293803</td>\n",
              "      <td>0.279798</td>\n",
              "      <td>-0.145362</td>\n",
              "      <td>-0.252773</td>\n",
              "      <td>0.035764</td>\n",
              "      <td>529.00</td>\n",
              "      <td>1.0</td>\n",
              "    </tr>\n",
              "  </tbody>\n",
              "</table>\n",
              "<p>5 rows × 31 columns</p>\n",
              "</div>\n",
              "      <button class=\"colab-df-convert\" onclick=\"convertToInteractive('df-326537b6-83f2-4616-8847-da4fd04da19d')\"\n",
              "              title=\"Convert this dataframe to an interactive table.\"\n",
              "              style=\"display:none;\">\n",
              "        \n",
              "  <svg xmlns=\"http://www.w3.org/2000/svg\" height=\"24px\"viewBox=\"0 0 24 24\"\n",
              "       width=\"24px\">\n",
              "    <path d=\"M0 0h24v24H0V0z\" fill=\"none\"/>\n",
              "    <path d=\"M18.56 5.44l.94 2.06.94-2.06 2.06-.94-2.06-.94-.94-2.06-.94 2.06-2.06.94zm-11 1L8.5 8.5l.94-2.06 2.06-.94-2.06-.94L8.5 2.5l-.94 2.06-2.06.94zm10 10l.94 2.06.94-2.06 2.06-.94-2.06-.94-.94-2.06-.94 2.06-2.06.94z\"/><path d=\"M17.41 7.96l-1.37-1.37c-.4-.4-.92-.59-1.43-.59-.52 0-1.04.2-1.43.59L10.3 9.45l-7.72 7.72c-.78.78-.78 2.05 0 2.83L4 21.41c.39.39.9.59 1.41.59.51 0 1.02-.2 1.41-.59l7.78-7.78 2.81-2.81c.8-.78.8-2.07 0-2.86zM5.41 20L4 18.59l7.72-7.72 1.47 1.35L5.41 20z\"/>\n",
              "  </svg>\n",
              "      </button>\n",
              "      \n",
              "  <style>\n",
              "    .colab-df-container {\n",
              "      display:flex;\n",
              "      flex-wrap:wrap;\n",
              "      gap: 12px;\n",
              "    }\n",
              "\n",
              "    .colab-df-convert {\n",
              "      background-color: #E8F0FE;\n",
              "      border: none;\n",
              "      border-radius: 50%;\n",
              "      cursor: pointer;\n",
              "      display: none;\n",
              "      fill: #1967D2;\n",
              "      height: 32px;\n",
              "      padding: 0 0 0 0;\n",
              "      width: 32px;\n",
              "    }\n",
              "\n",
              "    .colab-df-convert:hover {\n",
              "      background-color: #E2EBFA;\n",
              "      box-shadow: 0px 1px 2px rgba(60, 64, 67, 0.3), 0px 1px 3px 1px rgba(60, 64, 67, 0.15);\n",
              "      fill: #174EA6;\n",
              "    }\n",
              "\n",
              "    [theme=dark] .colab-df-convert {\n",
              "      background-color: #3B4455;\n",
              "      fill: #D2E3FC;\n",
              "    }\n",
              "\n",
              "    [theme=dark] .colab-df-convert:hover {\n",
              "      background-color: #434B5C;\n",
              "      box-shadow: 0px 1px 3px 1px rgba(0, 0, 0, 0.15);\n",
              "      filter: drop-shadow(0px 1px 2px rgba(0, 0, 0, 0.3));\n",
              "      fill: #FFFFFF;\n",
              "    }\n",
              "  </style>\n",
              "\n",
              "      <script>\n",
              "        const buttonEl =\n",
              "          document.querySelector('#df-326537b6-83f2-4616-8847-da4fd04da19d button.colab-df-convert');\n",
              "        buttonEl.style.display =\n",
              "          google.colab.kernel.accessAllowed ? 'block' : 'none';\n",
              "\n",
              "        async function convertToInteractive(key) {\n",
              "          const element = document.querySelector('#df-326537b6-83f2-4616-8847-da4fd04da19d');\n",
              "          const dataTable =\n",
              "            await google.colab.kernel.invokeFunction('convertToInteractive',\n",
              "                                                     [key], {});\n",
              "          if (!dataTable) return;\n",
              "\n",
              "          const docLinkHtml = 'Like what you see? Visit the ' +\n",
              "            '<a target=\"_blank\" href=https://colab.research.google.com/notebooks/data_table.ipynb>data table notebook</a>'\n",
              "            + ' to learn more about interactive tables.';\n",
              "          element.innerHTML = '';\n",
              "          dataTable['output_type'] = 'display_data';\n",
              "          await google.colab.output.renderOutput(dataTable, element);\n",
              "          const docLink = document.createElement('div');\n",
              "          docLink.innerHTML = docLinkHtml;\n",
              "          element.appendChild(docLink);\n",
              "        }\n",
              "      </script>\n",
              "    </div>\n",
              "  </div>\n",
              "  "
            ]
          },
          "metadata": {},
          "execution_count": 23
        }
      ]
    },
    {
      "cell_type": "code",
      "source": [
        "new_dataset['Class'].value_counts()"
      ],
      "metadata": {
        "id": "GPHMjm5jIvfo",
        "outputId": "b61f42af-f5da-495b-c957-a6a81dbd1b63",
        "colab": {
          "base_uri": "https://localhost:8080/"
        }
      },
      "execution_count": null,
      "outputs": [
        {
          "output_type": "execute_result",
          "data": {
            "text/plain": [
              "0.0    56\n",
              "1.0     2\n",
              "Name: Class, dtype: int64"
            ]
          },
          "metadata": {},
          "execution_count": 24
        }
      ]
    },
    {
      "cell_type": "code",
      "source": [
        "new_dataset.groupby('Class').mean()"
      ],
      "metadata": {
        "id": "bA7BmNFJI14-",
        "outputId": "bec00bed-fc9f-4310-9329-e526b06000da",
        "colab": {
          "base_uri": "https://localhost:8080/",
          "height": 237
        }
      },
      "execution_count": null,
      "outputs": [
        {
          "output_type": "execute_result",
          "data": {
            "text/plain": [
              "             Time        V1        V2        V3        V4        V5        V6  \\\n",
              "Class                                                                           \n",
              "0.0    665.107143 -0.196622  0.322247  0.886159  0.059009 -0.183576 -0.073640   \n",
              "1.0    439.000000 -2.677884 -0.602658 -0.260694  3.143275  0.418809 -1.245684   \n",
              "\n",
              "             V7        V8        V9  ...       V20       V21       V22  \\\n",
              "Class                                ...                                 \n",
              "0.0    0.106869 -0.066971  0.123259  ...  0.063644  0.026430 -0.159412   \n",
              "1.0   -1.105907  0.661932 -1.520521  ...  1.114625  0.589464  0.200214   \n",
              "\n",
              "            V23       V24       V25       V26       V27       V28      Amount  \n",
              "Class                                                                          \n",
              "0.0   -0.080251  0.057303  0.155440  0.079787 -0.031179 -0.056394   55.574643  \n",
              "1.0    0.455377  0.013198  0.162159  0.016239  0.004186 -0.053756  264.500000  \n",
              "\n",
              "[2 rows x 30 columns]"
            ],
            "text/html": [
              "\n",
              "  <div id=\"df-d8096416-5c59-413a-80f7-181cf485219d\">\n",
              "    <div class=\"colab-df-container\">\n",
              "      <div>\n",
              "<style scoped>\n",
              "    .dataframe tbody tr th:only-of-type {\n",
              "        vertical-align: middle;\n",
              "    }\n",
              "\n",
              "    .dataframe tbody tr th {\n",
              "        vertical-align: top;\n",
              "    }\n",
              "\n",
              "    .dataframe thead th {\n",
              "        text-align: right;\n",
              "    }\n",
              "</style>\n",
              "<table border=\"1\" class=\"dataframe\">\n",
              "  <thead>\n",
              "    <tr style=\"text-align: right;\">\n",
              "      <th></th>\n",
              "      <th>Time</th>\n",
              "      <th>V1</th>\n",
              "      <th>V2</th>\n",
              "      <th>V3</th>\n",
              "      <th>V4</th>\n",
              "      <th>V5</th>\n",
              "      <th>V6</th>\n",
              "      <th>V7</th>\n",
              "      <th>V8</th>\n",
              "      <th>V9</th>\n",
              "      <th>...</th>\n",
              "      <th>V20</th>\n",
              "      <th>V21</th>\n",
              "      <th>V22</th>\n",
              "      <th>V23</th>\n",
              "      <th>V24</th>\n",
              "      <th>V25</th>\n",
              "      <th>V26</th>\n",
              "      <th>V27</th>\n",
              "      <th>V28</th>\n",
              "      <th>Amount</th>\n",
              "    </tr>\n",
              "    <tr>\n",
              "      <th>Class</th>\n",
              "      <th></th>\n",
              "      <th></th>\n",
              "      <th></th>\n",
              "      <th></th>\n",
              "      <th></th>\n",
              "      <th></th>\n",
              "      <th></th>\n",
              "      <th></th>\n",
              "      <th></th>\n",
              "      <th></th>\n",
              "      <th></th>\n",
              "      <th></th>\n",
              "      <th></th>\n",
              "      <th></th>\n",
              "      <th></th>\n",
              "      <th></th>\n",
              "      <th></th>\n",
              "      <th></th>\n",
              "      <th></th>\n",
              "      <th></th>\n",
              "      <th></th>\n",
              "    </tr>\n",
              "  </thead>\n",
              "  <tbody>\n",
              "    <tr>\n",
              "      <th>0.0</th>\n",
              "      <td>665.107143</td>\n",
              "      <td>-0.196622</td>\n",
              "      <td>0.322247</td>\n",
              "      <td>0.886159</td>\n",
              "      <td>0.059009</td>\n",
              "      <td>-0.183576</td>\n",
              "      <td>-0.073640</td>\n",
              "      <td>0.106869</td>\n",
              "      <td>-0.066971</td>\n",
              "      <td>0.123259</td>\n",
              "      <td>...</td>\n",
              "      <td>0.063644</td>\n",
              "      <td>0.026430</td>\n",
              "      <td>-0.159412</td>\n",
              "      <td>-0.080251</td>\n",
              "      <td>0.057303</td>\n",
              "      <td>0.155440</td>\n",
              "      <td>0.079787</td>\n",
              "      <td>-0.031179</td>\n",
              "      <td>-0.056394</td>\n",
              "      <td>55.574643</td>\n",
              "    </tr>\n",
              "    <tr>\n",
              "      <th>1.0</th>\n",
              "      <td>439.000000</td>\n",
              "      <td>-2.677884</td>\n",
              "      <td>-0.602658</td>\n",
              "      <td>-0.260694</td>\n",
              "      <td>3.143275</td>\n",
              "      <td>0.418809</td>\n",
              "      <td>-1.245684</td>\n",
              "      <td>-1.105907</td>\n",
              "      <td>0.661932</td>\n",
              "      <td>-1.520521</td>\n",
              "      <td>...</td>\n",
              "      <td>1.114625</td>\n",
              "      <td>0.589464</td>\n",
              "      <td>0.200214</td>\n",
              "      <td>0.455377</td>\n",
              "      <td>0.013198</td>\n",
              "      <td>0.162159</td>\n",
              "      <td>0.016239</td>\n",
              "      <td>0.004186</td>\n",
              "      <td>-0.053756</td>\n",
              "      <td>264.500000</td>\n",
              "    </tr>\n",
              "  </tbody>\n",
              "</table>\n",
              "<p>2 rows × 30 columns</p>\n",
              "</div>\n",
              "      <button class=\"colab-df-convert\" onclick=\"convertToInteractive('df-d8096416-5c59-413a-80f7-181cf485219d')\"\n",
              "              title=\"Convert this dataframe to an interactive table.\"\n",
              "              style=\"display:none;\">\n",
              "        \n",
              "  <svg xmlns=\"http://www.w3.org/2000/svg\" height=\"24px\"viewBox=\"0 0 24 24\"\n",
              "       width=\"24px\">\n",
              "    <path d=\"M0 0h24v24H0V0z\" fill=\"none\"/>\n",
              "    <path d=\"M18.56 5.44l.94 2.06.94-2.06 2.06-.94-2.06-.94-.94-2.06-.94 2.06-2.06.94zm-11 1L8.5 8.5l.94-2.06 2.06-.94-2.06-.94L8.5 2.5l-.94 2.06-2.06.94zm10 10l.94 2.06.94-2.06 2.06-.94-2.06-.94-.94-2.06-.94 2.06-2.06.94z\"/><path d=\"M17.41 7.96l-1.37-1.37c-.4-.4-.92-.59-1.43-.59-.52 0-1.04.2-1.43.59L10.3 9.45l-7.72 7.72c-.78.78-.78 2.05 0 2.83L4 21.41c.39.39.9.59 1.41.59.51 0 1.02-.2 1.41-.59l7.78-7.78 2.81-2.81c.8-.78.8-2.07 0-2.86zM5.41 20L4 18.59l7.72-7.72 1.47 1.35L5.41 20z\"/>\n",
              "  </svg>\n",
              "      </button>\n",
              "      \n",
              "  <style>\n",
              "    .colab-df-container {\n",
              "      display:flex;\n",
              "      flex-wrap:wrap;\n",
              "      gap: 12px;\n",
              "    }\n",
              "\n",
              "    .colab-df-convert {\n",
              "      background-color: #E8F0FE;\n",
              "      border: none;\n",
              "      border-radius: 50%;\n",
              "      cursor: pointer;\n",
              "      display: none;\n",
              "      fill: #1967D2;\n",
              "      height: 32px;\n",
              "      padding: 0 0 0 0;\n",
              "      width: 32px;\n",
              "    }\n",
              "\n",
              "    .colab-df-convert:hover {\n",
              "      background-color: #E2EBFA;\n",
              "      box-shadow: 0px 1px 2px rgba(60, 64, 67, 0.3), 0px 1px 3px 1px rgba(60, 64, 67, 0.15);\n",
              "      fill: #174EA6;\n",
              "    }\n",
              "\n",
              "    [theme=dark] .colab-df-convert {\n",
              "      background-color: #3B4455;\n",
              "      fill: #D2E3FC;\n",
              "    }\n",
              "\n",
              "    [theme=dark] .colab-df-convert:hover {\n",
              "      background-color: #434B5C;\n",
              "      box-shadow: 0px 1px 3px 1px rgba(0, 0, 0, 0.15);\n",
              "      filter: drop-shadow(0px 1px 2px rgba(0, 0, 0, 0.3));\n",
              "      fill: #FFFFFF;\n",
              "    }\n",
              "  </style>\n",
              "\n",
              "      <script>\n",
              "        const buttonEl =\n",
              "          document.querySelector('#df-d8096416-5c59-413a-80f7-181cf485219d button.colab-df-convert');\n",
              "        buttonEl.style.display =\n",
              "          google.colab.kernel.accessAllowed ? 'block' : 'none';\n",
              "\n",
              "        async function convertToInteractive(key) {\n",
              "          const element = document.querySelector('#df-d8096416-5c59-413a-80f7-181cf485219d');\n",
              "          const dataTable =\n",
              "            await google.colab.kernel.invokeFunction('convertToInteractive',\n",
              "                                                     [key], {});\n",
              "          if (!dataTable) return;\n",
              "\n",
              "          const docLinkHtml = 'Like what you see? Visit the ' +\n",
              "            '<a target=\"_blank\" href=https://colab.research.google.com/notebooks/data_table.ipynb>data table notebook</a>'\n",
              "            + ' to learn more about interactive tables.';\n",
              "          element.innerHTML = '';\n",
              "          dataTable['output_type'] = 'display_data';\n",
              "          await google.colab.output.renderOutput(dataTable, element);\n",
              "          const docLink = document.createElement('div');\n",
              "          docLink.innerHTML = docLinkHtml;\n",
              "          element.appendChild(docLink);\n",
              "        }\n",
              "      </script>\n",
              "    </div>\n",
              "  </div>\n",
              "  "
            ]
          },
          "metadata": {},
          "execution_count": 25
        }
      ]
    },
    {
      "cell_type": "markdown",
      "source": [
        "Splitting the data into Features & Targets"
      ],
      "metadata": {
        "id": "y_1ykrwKJBPS"
      }
    },
    {
      "cell_type": "code",
      "source": [
        " X = new_dataset.drop(columns='Class', axis=1)\n",
        " Y = new_dataset['Class']"
      ],
      "metadata": {
        "id": "pbGOrzLYJIid"
      },
      "execution_count": null,
      "outputs": []
    },
    {
      "cell_type": "code",
      "source": [
        " print(X)"
      ],
      "metadata": {
        "id": "Uuqd7gnVNuar",
        "outputId": "ffd95ae2-ac12-4432-c4e7-50289d46bb65",
        "colab": {
          "base_uri": "https://localhost:8080/"
        }
      },
      "execution_count": null,
      "outputs": [
        {
          "output_type": "stream",
          "name": "stdout",
          "text": [
            "      Time        V1        V2        V3        V4        V5        V6  \\\n",
            "660    499  1.255439  0.307729  0.292700  0.699873 -0.428876 -1.088456   \n",
            "250    171 -0.365532  1.006932  1.108304 -0.428694  0.590513  0.105474   \n",
            "226    150 -0.399880  1.051966  1.390802  0.093132 -0.007699 -0.717559   \n",
            "698    528 -0.378417  0.751515  1.772256  0.311020 -0.329130 -0.746206   \n",
            "1935  1494  0.913351  0.162820  0.778282  2.722810 -0.657400 -0.824999   \n",
            "675    511 -0.259961  0.998646  1.437975  0.038031  0.125405 -0.957775   \n",
            "1085   834  0.956248 -0.639957  1.479889  0.960274 -1.187182  0.808972   \n",
            "217    143 -2.143458  2.107826  0.213152  1.282217 -0.732558  0.023589   \n",
            "109     73  1.239048  0.293284  0.086472  1.178277  0.373344  0.325596   \n",
            "1378  1072 -0.501898  0.200435  1.217419 -0.181981 -0.420186  0.083728   \n",
            "400    290 -0.695818  0.581773  2.378180  0.063396  0.329119 -0.449865   \n",
            "481    354  1.135629 -0.173986  0.730692  0.711558 -0.854209 -0.494951   \n",
            "767    575 -0.572263  0.731748  1.541254  0.150506  1.108974  0.372152   \n",
            "535    403  0.699599 -2.631727  0.661576 -0.707254 -2.261000  0.360969   \n",
            "426    309  1.031381 -0.089444  0.421362  0.620875  0.330242  1.351988   \n",
            "739    555 -0.953030  1.274549  1.835506  0.833734  0.019393 -0.103387   \n",
            "575    430 -1.860258 -0.629859  0.966570  0.844632  0.759983 -1.481173   \n",
            "1623  1259 -1.113776  1.025264  1.231964 -0.040425  0.117880 -1.153782   \n",
            "1245   961  0.632066 -1.301733  0.955140  0.326411 -1.611213 -0.182602   \n",
            "1034   783 -2.933478  1.874979 -0.462953 -2.414422 -0.764367 -1.842787   \n",
            "780    589 -0.123155  0.317704  2.747798  1.620201 -0.987645  1.353462   \n",
            "1262   973 -0.869183  1.256710  0.926018  0.052778 -0.343745 -1.074462   \n",
            "1966  1511 -0.839605  0.917093  1.516448 -0.722513 -0.280496 -0.738684   \n",
            "162    103 -0.940893  1.074155  1.759398 -0.601446  0.101693 -0.188520   \n",
            "932    705  1.229676 -0.191670  0.317611  1.239858 -0.037130  1.027669   \n",
            "1206   936  0.912120 -0.548948  0.343672  0.522708 -0.732583 -0.422368   \n",
            "35      26 -0.535388  0.865268  1.351076  0.147575  0.433680  0.086983   \n",
            "254    179 -0.431092  0.890752  1.720543 -0.238246  0.273263 -0.970191   \n",
            "435    313 -0.907420  1.103912  1.288489  1.243612 -0.068032  0.214040   \n",
            "1651  1280 -0.325583  0.400558  1.562223 -0.326307  0.053673 -1.275265   \n",
            "471    346  1.077079  0.284980  0.007731  1.657073  0.052020  0.446389   \n",
            "662    499 -0.860626 -0.109137  2.112474 -1.400567  0.180269  1.329656   \n",
            "948    718  0.325401 -2.509865  0.614651 -0.174645 -1.747268  1.067329   \n",
            "1464  1138 -0.102220  1.450380 -0.443113  0.777292  0.528907 -0.695905   \n",
            "1775  1377  1.315384 -0.044160  0.030803 -0.374108 -0.182137 -0.369705   \n",
            "611    460  1.314054  0.433171 -0.577559  0.715883  0.683583 -0.194720   \n",
            "446    323 -0.850731  0.695703  2.071838  0.928201 -0.032108  0.648932   \n",
            "999    755 -2.497436  1.402769  0.184840 -2.504117 -0.111803 -0.902909   \n",
            "1704  1317 -0.391757  0.591094  2.752836  0.726359  0.359031  0.781081   \n",
            "1688  1309  1.350184 -0.783871 -1.430495 -2.989140  1.527236  2.971130   \n",
            "1822  1416 -0.604138  0.859459  1.600674  1.160796  0.535470  0.355591   \n",
            "1094   843  1.228742 -0.131946  0.690335 -0.123027 -0.913109 -0.839035   \n",
            "1136   881 -1.658089  1.329371  0.798456 -0.003906 -0.350796  0.491844   \n",
            "685    517 -0.639474 -0.048355  2.452755  0.310804 -0.430963 -0.290032   \n",
            "147     92  0.607153 -0.957413  0.761505  1.590050 -1.177298  0.011232   \n",
            "1519  1188  0.974692 -0.618454  1.189187  0.260653 -1.241627 -0.140155   \n",
            "1817  1410  1.300333 -1.461780  0.071310 -1.418485 -1.413651 -0.484054   \n",
            "263    185 -0.241302  1.089311  0.703989 -0.265987  0.692898 -0.179352   \n",
            "83      53 -1.198968 -1.474100  1.840326 -4.515824  0.327567 -0.174469   \n",
            "1260   973 -1.535832  0.043217  0.650716 -0.700745  0.905972 -0.449464   \n",
            "801    608 -4.130219  3.794249 -1.928831  0.048061 -2.532346 -1.469961   \n",
            "271    192 -0.351287  1.183754  0.530794  0.543891  0.798441 -0.804472   \n",
            "737    553  1.189482  0.237247  0.244980  1.081824 -0.165736 -0.515929   \n",
            "1828  1421  1.212129  0.112034  0.222313  0.669416 -0.425354 -0.667387   \n",
            "158     99 -0.883996 -0.150765  2.291791 -0.263452 -0.814535  0.955841   \n",
            "754    564  0.186118 -0.159358 -1.389222 -2.433996  1.753378  3.593082   \n",
            "541    406 -2.312227  1.951992 -1.609851  3.997906 -0.522188 -1.426545   \n",
            "623    472 -3.043541 -3.157307  1.088463  2.288644  1.359805 -1.064823   \n",
            "\n",
            "            V7        V8        V9  ...       V20       V21       V22  \\\n",
            "660   0.043840 -0.167739  0.128854  ... -0.121156 -0.294795 -0.882126   \n",
            "250   0.602926  0.132310 -0.636398  ...  0.165873 -0.250031 -0.663325   \n",
            "226   0.588095  0.085932 -0.310722  ...  0.018253 -0.224926 -0.573766   \n",
            "698   0.719034 -0.081805 -0.152417  ... -0.034612 -0.120891 -0.240394   \n",
            "1935  0.245083 -0.138356 -0.658599  ...  0.031013  0.027785 -0.284201   \n",
            "675   0.899758 -0.270159 -0.186834  ...  0.171635 -0.316535 -0.697534   \n",
            "1085 -0.967921  0.426319  1.194297  ... -0.022516  0.143137  0.767711   \n",
            "217  -0.073256  0.924143 -0.356988  ... -0.112866  0.044641  0.345346   \n",
            "109   0.119319 -0.025476  0.173211  ... -0.103570 -0.148136 -0.111893   \n",
            "1378  0.990755  0.063176 -0.254466  ...  0.283597 -0.053073 -0.319245   \n",
            "400   1.269104 -0.758363  0.381712  ...  0.067065 -0.327948 -0.369683   \n",
            "481  -0.296620  0.110536  0.490269  ... -0.166508 -0.243930 -0.682700   \n",
            "767   1.084879 -0.146329 -0.274447  ...  0.056544 -0.143508 -0.107582   \n",
            "535  -1.069656 -0.053544 -0.833647  ...  0.540912  0.049882  0.068132   \n",
            "426  -0.287901  0.412094  0.313047  ... -0.184406 -0.098008  0.077084   \n",
            "739   0.833451 -0.242795 -0.075905  ...  0.237897 -0.143525  0.138945   \n",
            "575  -0.509681  0.540722 -0.733623  ...  0.320450  0.268028  0.125515   \n",
            "1623  0.546797  0.331796 -0.649808  ... -0.253161  0.117212  0.012595   \n",
            "1245 -0.478545  0.147856  0.901614  ...  0.446846  0.103585 -0.202094   \n",
            "1034 -0.028867 -1.383148  1.895508  ...  0.007660  1.321299 -0.303410   \n",
            "780  -1.072298 -0.288372  0.356136  ... -0.065085  0.819643  0.238083   \n",
            "1262  0.427422  0.247870  0.059041  ...  0.091996 -0.324417 -0.852459   \n",
            "1966  0.570513  0.173506  0.145742  ...  0.047359 -0.176410 -0.372165   \n",
            "162   0.455756 -3.460682  0.441525  ... -0.209018  2.270069 -0.143518   \n",
            "932  -0.554929  0.373684  1.263856  ... -0.294912 -0.203944 -0.284410   \n",
            "1206  0.033423 -0.029144  0.326674  ...  0.195630 -0.100750 -0.496645   \n",
            "35    0.693039  0.179742 -0.285642  ... -0.283264  0.049526  0.206537   \n",
            "254   1.249910 -0.483676 -0.871157  ...  0.290505 -0.412644 -1.112005   \n",
            "435   0.324000  0.436037 -0.437409  ...  0.028251  0.022520  0.399523   \n",
            "1651  0.908067 -0.356855 -0.091947  ...  0.010130  0.031923  0.098348   \n",
            "471  -0.407036  0.355704  0.626039  ... -0.142799 -0.174337 -0.174161   \n",
            "662   0.431001  0.317761  0.593762  ...  0.157201 -0.197635 -0.436535   \n",
            "948  -0.857323  0.432395  0.010094  ...  0.844358  0.372382  0.178948   \n",
            "1464  0.693915  0.164931 -0.765275  ...  0.020633  0.131515  0.513020   \n",
            "1775 -0.156686 -0.025748  0.080582  ... -0.046934 -0.115442 -0.354745   \n",
            "611   0.442210 -0.147779 -0.495027  ... -0.088305 -0.018596 -0.016909   \n",
            "446   0.150909  0.440486 -0.564489  ...  0.301436  0.211628  0.591596   \n",
            "999   0.110183 -3.655788  2.231761  ... -0.417931  2.777155 -0.664909   \n",
            "1704  0.994960 -0.862935  0.765892  ...  0.340517 -0.239918  0.195502   \n",
            "1688 -0.740709  0.768487  2.164742  ...  0.013168 -0.107405 -0.071687   \n",
            "1822  0.690064 -0.034051 -0.417651  ...  0.211614 -0.022346  0.468384   \n",
            "1094 -0.372969  0.022579  0.264522  ... -0.124747 -0.080808 -0.299441   \n",
            "1136 -0.362643  1.310871 -0.388183  ... -0.074444 -0.027091 -0.028662   \n",
            "685   0.166889  0.006196  0.651675  ...  0.144206  0.004189  0.110847   \n",
            "147  -0.166991  0.152720  0.742860  ...  0.304714  0.166237  0.100682   \n",
            "1519 -0.599202  0.101320  0.964559  ...  0.117763 -0.006735  0.029530   \n",
            "1817 -0.844590 -0.146900 -1.663450  ... -0.071827 -0.435549 -1.267915   \n",
            "263   0.684651  0.020710 -0.286050  ...  0.154854 -0.356467 -0.954377   \n",
            "83    0.959726 -1.026456  1.700435  ... -0.769854 -0.453169  0.334614   \n",
            "1260 -0.224389  0.672757 -0.246597  ...  0.210297 -0.094673 -0.606527   \n",
            "801  -1.866922  3.007835 -0.332471  ...  0.066023 -0.160842 -0.961563   \n",
            "271   1.563170 -0.935794  0.633634  ...  0.596401 -0.121755  0.668124   \n",
            "737   0.090389 -0.047797  0.107288  ... -0.218716  0.048803  0.168335   \n",
            "1828 -0.174886  0.088308  0.437673  ... -0.286513 -0.291333 -0.936416   \n",
            "158   0.097631  0.474047  0.139512  ...  0.358751  0.070901  0.051832   \n",
            "754  -1.582165 -1.903514 -1.314805  ...  0.803667 -1.084401  0.656716   \n",
            "541  -2.537387  1.391657 -2.770089  ...  0.126911  0.517232 -0.035049   \n",
            "623   0.325574 -0.067794 -0.270953  ...  2.102339  0.661696  0.435477   \n",
            "\n",
            "           V23       V24       V25       V26       V27       V28  Amount  \n",
            "660   0.136846  0.327949  0.194459  0.096516 -0.027271  0.029491    1.98  \n",
            "250  -0.189399 -0.845682 -0.055760  0.124845  0.263525  0.099579    0.89  \n",
            "226   0.057041  0.329354 -0.302724  0.083883  0.258834  0.096337    0.89  \n",
            "698  -0.057803  0.733812 -0.049448  0.207357  0.023386  0.057469   25.41  \n",
            "1935 -0.010595  0.875361  0.278540 -0.117198 -0.036402  0.049627  126.71  \n",
            "675  -0.035228  0.322387 -0.198797  0.044630  0.077318 -0.125135    8.93  \n",
            "1085 -0.141420  0.338087  0.378653  0.685454  0.035464  0.018274   59.00  \n",
            "217   0.013233  0.117188  0.012406 -0.288531 -0.473894 -0.184488   39.95  \n",
            "109  -0.173207 -0.714729  0.817360 -0.263843  0.047777  0.008735    1.00  \n",
            "1378  0.187640  0.030717  0.038197  0.460777 -0.072873  0.011141  158.00  \n",
            "400  -0.426987  0.420170  0.235207  0.194957 -0.708471 -0.621219   30.50  \n",
            "481   0.096611  0.519267  0.201128  0.259544 -0.039581  0.007195   23.88  \n",
            "767  -0.418263 -0.731029  0.877525 -0.364150 -0.177509 -0.256545   26.72  \n",
            "535  -0.499373 -0.028743  0.460852 -0.003403  0.020449  0.092994  411.88  \n",
            "426   0.122698 -0.898894  0.166943  0.393916  0.053320  0.001398   14.60  \n",
            "739  -0.237129  0.562703 -0.068519 -0.540693 -0.627312 -0.550223   11.22  \n",
            "575  -0.225029  0.586664 -0.031598  0.570168 -0.043007 -0.223739    0.00  \n",
            "1623 -0.318927  0.366540  0.816484 -0.457648 -0.172050 -0.133202    9.00  \n",
            "1245 -0.158336  0.604686 -0.071407  0.933820 -0.094094  0.054083  281.42  \n",
            "1034  0.455970  0.697905  0.300217 -0.089037  0.998268  0.611679    1.00  \n",
            "780  -0.351019  0.277906  1.206820  0.026969  0.204275  0.164096   15.00  \n",
            "1262  0.048882  0.273927 -0.169705  0.057235  0.055106 -0.134962   12.99  \n",
            "1966 -0.038797  0.508457 -0.273052  0.272952  0.395793  0.229523    5.00  \n",
            "162   0.153908  0.700927 -0.413235  1.374031 -0.996161 -0.836301    9.99  \n",
            "932  -0.214341 -1.359050  0.736990 -0.163443  0.059944  0.002896    1.00  \n",
            "1206 -0.121346  0.376960  0.312083  0.469909 -0.073913  0.024398  158.00  \n",
            "35   -0.187108  0.000753  0.098117 -0.553471 -0.078306  0.025427    1.77  \n",
            "254  -0.057684  0.430112 -0.063250  0.723811 -0.210697 -0.161058   27.99  \n",
            "435  -0.049081  0.220258 -0.162924 -0.286994  0.015071 -0.104668   15.08  \n",
            "1651  0.061269  0.712562 -0.373682  0.148596 -0.171763 -0.159885   38.99  \n",
            "471  -0.153375 -0.466331  0.611001 -0.252871  0.090375  0.054820   10.99  \n",
            "662  -0.194840 -1.236873  0.218668  0.902383 -0.210195 -0.190458   92.82  \n",
            "948  -0.332993 -0.256952 -0.006418 -0.247253 -0.011687  0.085306  467.74  \n",
            "1464 -0.044691 -0.417170 -0.546792 -0.363946  0.318977  0.160554    3.75  \n",
            "1775 -0.065918 -0.442702  0.313711  0.995331 -0.089888 -0.015565    1.85  \n",
            "611  -0.306040 -0.810191  0.986072 -0.242416 -0.011943 -0.010327    2.85  \n",
            "446  -0.210962 -0.341889  0.281912 -0.067353  0.339467  0.138091   52.00  \n",
            "999   0.594689  0.330380  0.064190 -0.110533  0.672165  0.114739    8.00  \n",
            "1704 -0.463516 -0.410537  0.354929 -0.373488 -0.963554 -0.894061   36.19  \n",
            "1688 -0.213479  1.058844  1.034843 -0.681633  0.079148  0.013178   11.76  \n",
            "1822 -0.099847  0.044500 -0.109778 -0.278586  0.146146 -0.034172    5.99  \n",
            "1094  0.122823  0.572363  0.029093  0.877640 -0.080126 -0.000985    0.46  \n",
            "1136 -0.006669 -0.279290 -0.119194  0.290949  0.205139  0.072856    7.65  \n",
            "685   0.057008  0.389171 -0.449642  0.218186 -0.067664 -0.073760   59.90  \n",
            "147  -0.317001  0.543778  0.484232 -0.330425 -0.001545  0.062098  268.78  \n",
            "1519  0.042315  0.497241 -0.017796  0.988186 -0.030459  0.033423  100.00  \n",
            "1817 -0.002131 -0.528005  0.151432 -0.440399  0.002662  0.042126  152.00  \n",
            "263  -0.184437 -1.070824  0.023379  0.158949  0.242900  0.083893    4.65  \n",
            "83   -0.364541 -0.310186 -0.302599 -1.243924 -1.123457 -0.734351   89.17  \n",
            "1260 -0.198045 -0.806783 -0.089386  0.341019  0.186095 -0.051518    1.00  \n",
            "801   0.383984  0.293528  0.283096  0.115836  0.011618 -0.003323   11.97  \n",
            "271  -0.057380  0.301398 -0.730946 -0.538616 -0.037212 -0.479956    1.79  \n",
            "737  -0.064208  0.063460  0.583806 -0.296477  0.023572  0.016121   10.08  \n",
            "1828  0.191703 -0.040030  0.052108  0.133221 -0.024147  0.021525    1.29  \n",
            "158   0.110298 -0.260629 -0.097549  1.155439 -0.021199  0.062565  142.71  \n",
            "754  -0.139815  1.036164  0.804413 -0.242090  0.103552  0.276180   48.00  \n",
            "541  -0.465211  0.320198  0.044519  0.177840  0.261145 -0.143276    0.00  \n",
            "623   1.375966 -0.293803  0.279798 -0.145362 -0.252773  0.035764  529.00  \n",
            "\n",
            "[58 rows x 30 columns]\n"
          ]
        }
      ]
    },
    {
      "cell_type": "code",
      "source": [
        "print(Y)"
      ],
      "metadata": {
        "id": "t-J0W_xUN6um",
        "outputId": "3d72cc1b-41fd-47f9-8b4c-7afe0ce0b4fb",
        "colab": {
          "base_uri": "https://localhost:8080/"
        }
      },
      "execution_count": null,
      "outputs": [
        {
          "output_type": "stream",
          "name": "stdout",
          "text": [
            "660     0.0\n",
            "250     0.0\n",
            "226     0.0\n",
            "698     0.0\n",
            "1935    0.0\n",
            "675     0.0\n",
            "1085    0.0\n",
            "217     0.0\n",
            "109     0.0\n",
            "1378    0.0\n",
            "400     0.0\n",
            "481     0.0\n",
            "767     0.0\n",
            "535     0.0\n",
            "426     0.0\n",
            "739     0.0\n",
            "575     0.0\n",
            "1623    0.0\n",
            "1245    0.0\n",
            "1034    0.0\n",
            "780     0.0\n",
            "1262    0.0\n",
            "1966    0.0\n",
            "162     0.0\n",
            "932     0.0\n",
            "1206    0.0\n",
            "35      0.0\n",
            "254     0.0\n",
            "435     0.0\n",
            "1651    0.0\n",
            "471     0.0\n",
            "662     0.0\n",
            "948     0.0\n",
            "1464    0.0\n",
            "1775    0.0\n",
            "611     0.0\n",
            "446     0.0\n",
            "999     0.0\n",
            "1704    0.0\n",
            "1688    0.0\n",
            "1822    0.0\n",
            "1094    0.0\n",
            "1136    0.0\n",
            "685     0.0\n",
            "147     0.0\n",
            "1519    0.0\n",
            "1817    0.0\n",
            "263     0.0\n",
            "83      0.0\n",
            "1260    0.0\n",
            "801     0.0\n",
            "271     0.0\n",
            "737     0.0\n",
            "1828    0.0\n",
            "158     0.0\n",
            "754     0.0\n",
            "541     1.0\n",
            "623     1.0\n",
            "Name: Class, dtype: float64\n"
          ]
        }
      ]
    },
    {
      "cell_type": "markdown",
      "source": [
        "Split the data into Training Data & Test Data"
      ],
      "metadata": {
        "id": "k047WKxrOAq9"
      }
    },
    {
      "cell_type": "code",
      "source": [
        "X_train, X_test, Y_train, Y_test = train_test_split(X, Y, test_size=0.2, stratify=Y, random_state=2)"
      ],
      "metadata": {
        "id": "proka9ZpOFgs"
      },
      "execution_count": null,
      "outputs": []
    },
    {
      "cell_type": "code",
      "source": [
        "print(X.shape, X_train.shape, X_test.shape)"
      ],
      "metadata": {
        "id": "xlV0zua2OVsy",
        "outputId": "1aa8c76d-3baa-40ff-c6ab-be91dbee8022",
        "colab": {
          "base_uri": "https://localhost:8080/"
        }
      },
      "execution_count": null,
      "outputs": [
        {
          "output_type": "stream",
          "name": "stdout",
          "text": [
            "(58, 30) (46, 30) (12, 30)\n"
          ]
        }
      ]
    },
    {
      "cell_type": "markdown",
      "source": [
        "Model Training \n",
        "\n",
        "Logistic Regression"
      ],
      "metadata": {
        "id": "sttwC7HOOkh1"
      }
    },
    {
      "cell_type": "code",
      "source": [
        "model = LogisticRegression()"
      ],
      "metadata": {
        "id": "EySxG9jrOodp"
      },
      "execution_count": null,
      "outputs": []
    },
    {
      "cell_type": "code",
      "source": [
        "# training the Logistic Regression Model with Training Data\n",
        "model.fit(X_train, Y_train)"
      ],
      "metadata": {
        "id": "EzQPnUgLOuEf",
        "outputId": "9d05b020-65af-4626-834d-3299f9f9467f",
        "colab": {
          "base_uri": "https://localhost:8080/"
        }
      },
      "execution_count": null,
      "outputs": [
        {
          "output_type": "stream",
          "name": "stderr",
          "text": [
            "/usr/local/lib/python3.7/dist-packages/sklearn/linear_model/_logistic.py:818: ConvergenceWarning: lbfgs failed to converge (status=1):\n",
            "STOP: TOTAL NO. of ITERATIONS REACHED LIMIT.\n",
            "\n",
            "Increase the number of iterations (max_iter) or scale the data as shown in:\n",
            "    https://scikit-learn.org/stable/modules/preprocessing.html\n",
            "Please also refer to the documentation for alternative solver options:\n",
            "    https://scikit-learn.org/stable/modules/linear_model.html#logistic-regression\n",
            "  extra_warning_msg=_LOGISTIC_SOLVER_CONVERGENCE_MSG,\n"
          ]
        },
        {
          "output_type": "execute_result",
          "data": {
            "text/plain": [
              "LogisticRegression()"
            ]
          },
          "metadata": {},
          "execution_count": 32
        }
      ]
    },
    {
      "cell_type": "markdown",
      "source": [
        "Model Evaluation\n",
        "\n",
        "Accuracy Score"
      ],
      "metadata": {
        "id": "_ZpEdu-IPBh8"
      }
    },
    {
      "cell_type": "code",
      "source": [
        "# Accuracy on Training Data\n",
        "X_train_prediction = model.predict(X_train)\n",
        "training_data_accuracy = accuracy_score(X_train_prediction, Y_train)"
      ],
      "metadata": {
        "id": "03D-MGqxOxC0"
      },
      "execution_count": null,
      "outputs": []
    },
    {
      "cell_type": "code",
      "source": [
        "print('Accuracy on Training Data : ', training_data_accuracy)"
      ],
      "metadata": {
        "id": "oYY9xtr1PJA8",
        "outputId": "c89044fa-4335-45b0-8c77-20f2fa5313fb",
        "colab": {
          "base_uri": "https://localhost:8080/"
        }
      },
      "execution_count": null,
      "outputs": [
        {
          "output_type": "stream",
          "name": "stdout",
          "text": [
            "Accuracy on Training Data :  1.0\n"
          ]
        }
      ]
    },
    {
      "cell_type": "code",
      "source": [
        "# Accuracy on Test Data\n",
        "X_test_prediction = model.predict(X_test)\n",
        "test_data_accuracy = accuracy_score(X_test_prediction, Y_test)"
      ],
      "metadata": {
        "id": "S4LX9t5jPeVK"
      },
      "execution_count": null,
      "outputs": []
    },
    {
      "cell_type": "code",
      "source": [
        "print('Accuracy on Test Data : ', test_data_accuracy)"
      ],
      "metadata": {
        "id": "ncIasX2IQDQe",
        "outputId": "84fc18d9-3c2b-4d1a-f761-ff1d285e0790",
        "colab": {
          "base_uri": "https://localhost:8080/"
        }
      },
      "execution_count": null,
      "outputs": [
        {
          "output_type": "stream",
          "name": "stdout",
          "text": [
            "Accuracy on Test Data :  1.0\n"
          ]
        }
      ]
    },
    {
      "cell_type": "code",
      "source": [
        ""
      ],
      "metadata": {
        "id": "P256xKCKQJ7C"
      },
      "execution_count": null,
      "outputs": []
    }
  ]
}